{
 "cells": [
  {
   "cell_type": "code",
   "execution_count": 10,
   "metadata": {},
   "outputs": [
    {
     "data": {
      "text/plain": [
       "\"/home/twan/.julia/dev/PushRecovery/Project.toml\""
      ]
     },
     "execution_count": 10,
     "metadata": {},
     "output_type": "execute_result"
    }
   ],
   "source": [
    "using Pkg\n",
    "Pkg.activate(joinpath(@__DIR__, \"..\"))"
   ]
  },
  {
   "cell_type": "code",
   "execution_count": 11,
   "metadata": {},
   "outputs": [],
   "source": [
    "using LinearAlgebra\n",
    "using QPControl\n",
    "using RigidBodyDynamics\n",
    "using RigidBodyDynamics.PDControl\n",
    "using RigidBodyDynamics.Contact\n",
    "using StaticArrays\n",
    "using AtlasRobot\n",
    "using Test\n",
    "using RigidBodySim\n",
    "using PushRecovery\n",
    "BLAS.set_num_threads(1)"
   ]
  },
  {
   "cell_type": "code",
   "execution_count": 12,
   "metadata": {},
   "outputs": [
    {
     "name": "stdout",
     "output_type": "stream",
     "text": [
      "  0.005430 seconds (46.80 k allocations: 1.877 MiB)\n"
     ]
    }
   ],
   "source": [
    "@time AtlasRobot.mechanism(add_flat_ground=true);"
   ]
  },
  {
   "cell_type": "code",
   "execution_count": 13,
   "metadata": {},
   "outputs": [
    {
     "name": "stdout",
     "output_type": "stream",
     "text": [
      "  0.005462 seconds (46.81 k allocations: 1.943 MiB)\n"
     ]
    }
   ],
   "source": [
    "@time mechanism = AtlasRobot.mechanism(add_flat_ground=true);"
   ]
  },
  {
   "cell_type": "code",
   "execution_count": 14,
   "metadata": {},
   "outputs": [],
   "source": [
    "# create optimizer\n",
    "using MathOptInterface\n",
    "using OSQP\n",
    "using OSQP.MathOptInterfaceOSQP: OSQPSettings\n",
    "const MOI = MathOptInterface\n",
    "optimizer = OSQP.Optimizer()\n",
    "MOI.set(optimizer, OSQPSettings.Verbose(), false)\n",
    "MOI.set(optimizer, OSQPSettings.EpsAbs(), 1e-5)\n",
    "MOI.set(optimizer, OSQPSettings.EpsRel(), 1e-5)\n",
    "MOI.set(optimizer, OSQPSettings.MaxIter(), 5000)\n",
    "MOI.set(optimizer, OSQPSettings.AdaptiveRhoInterval(), 25) # required for deterministic behavior"
   ]
  },
  {
   "cell_type": "code",
   "execution_count": 15,
   "metadata": {},
   "outputs": [],
   "source": [
    "# create low level controller\n",
    "num_basis_vectors = 4\n",
    "lowlevel = MomentumBasedController{num_basis_vectors}(mechanism, optimizer,\n",
    "    floatingjoint = findjoint(mechanism, \"pelvis_to_world\"));\n",
    "for body in bodies(mechanism)\n",
    "    for point in RigidBodyDynamics.contact_points(body)\n",
    "        position = location(point)\n",
    "        normal = FreeVector3D(default_frame(body), 0.0, 0.0, 1.0)\n",
    "        μ = point.model.friction.μ\n",
    "        contact = addcontact!(lowlevel, body, position, normal, μ)\n",
    "        contact.maxnormalforce[] = 1e6 # TODO\n",
    "        contact.weight[] = 1e-3\n",
    "    end\n",
    "end"
   ]
  },
  {
   "cell_type": "code",
   "execution_count": 16,
   "metadata": {},
   "outputs": [],
   "source": [
    "# create high level controller\n",
    "feet = findbody.(Ref(mechanism), [\"l_foot\", \"r_foot\"])\n",
    "pelvis = findbody(mechanism, \"pelvis\")\n",
    "nominalstate = MechanismState(mechanism)\n",
    "AtlasRobot.setnominal!(nominalstate)\n",
    "controller = PushRecoveryController(lowlevel, feet, pelvis, nominalstate);"
   ]
  },
  {
   "cell_type": "code",
   "execution_count": 49,
   "metadata": {},
   "outputs": [],
   "source": [
    "# create push applier\n",
    "pushapplier = PushApplier(mechanism, Point3D(default_frame(pelvis), 0.0, 0.0, 0.0));"
   ]
  },
  {
   "cell_type": "code",
   "execution_count": 66,
   "metadata": {},
   "outputs": [],
   "source": [
    "# create visualizer\n",
    "using MeshCat\n",
    "using MeshCatMechanisms\n",
    "if !(@isdefined gui)\n",
    "    vis = Visualizer()[:atlas]\n",
    "    visuals = URDFVisuals(AtlasRobot.urdfpath(); package_path = [AtlasRobot.packagepath()])\n",
    "    mvis = MechanismVisualizer(mechanism, visuals, vis)\n",
    "    gui = PushRecoveryGUI(mvis, Widget(pushapplier, max_force=100.0, max_Δt=0.3))\n",
    "    set_configuration!(mvis, configuration(nominalstate))\n",
    "    open(gui)\n",
    "end"
   ]
  },
  {
   "cell_type": "code",
   "execution_count": 67,
   "metadata": {},
   "outputs": [
    {
     "data": {
      "text/plain": [
       "\u001b[36mODEProblem\u001b[0m with uType \u001b[36mArray{Float64,1}\u001b[0m and tType \u001b[36mFloat64\u001b[0m. In-place: \u001b[36mtrue\u001b[0m\n",
       "timespan: (0.0, Inf)\n",
       "u0: [1.0, 0.0, 0.0, 0.0, 0.0, 0.0, 0.85, 0.0, 0.0, 0.0  …  0.0, 0.0, 0.0, 0.0, 0.0, 0.0, 0.0, 0.0, 0.0, 0.0]"
      ]
     },
     "execution_count": 67,
     "metadata": {},
     "output_type": "execute_result"
    }
   ],
   "source": [
    "# simulate\n",
    "state = MechanismState(mechanism)\n",
    "AtlasRobot.setnominal!(state)\n",
    "Δt = 1 / 300\n",
    "pcontroller = PeriodicController(similar(velocity(state)), Δt, controller)\n",
    "# TODO: add damping\n",
    "dynamics = Dynamics(mechanism, SumController(similar(velocity(state)), (pcontroller, pushapplier)))\n",
    "callback = CallbackSet(RealtimeRateLimiter(poll_interval=pi / 100), CallbackSet(gui))\n",
    "problem = ODEProblem(dynamics, state, (0., Inf); callback=callback)"
   ]
  },
  {
   "cell_type": "code",
   "execution_count": 68,
   "metadata": {},
   "outputs": [
    {
     "name": "stdout",
     "output_type": "stream",
     "text": [
      " 25.600472 seconds (24.50 M allocations: 1.557 GiB, 5.85% gc time)\n"
     ]
    }
   ],
   "source": [
    "@time sol = solve(problem, Tsit5(), abs_tol = 1e-8, dt = 1e-6);"
   ]
  },
  {
   "cell_type": "code",
   "execution_count": 69,
   "metadata": {},
   "outputs": [],
   "source": [
    "setanimation!(mvis, sol)"
   ]
  },
  {
   "cell_type": "code",
   "execution_count": 63,
   "metadata": {},
   "outputs": [],
   "source": [
    "# using BenchmarkTools\n",
    "# AtlasRobot.setnominal!(state)\n",
    "# τ = similar(velocity(state));\n",
    "# benchresult = @benchmark $controller($τ, 0.0, $state)\n",
    "# @test benchresult.allocs == 0\n",
    "# benchresult"
   ]
  },
  {
   "cell_type": "code",
   "execution_count": null,
   "metadata": {},
   "outputs": [],
   "source": []
  }
 ],
 "metadata": {
  "@webio": {
   "lastCommId": "86a85309d2394498a7a7f721f9f14638",
   "lastKernelId": "cbb8d1a9-2f2a-420e-a212-d0dca81355bf"
  },
  "kernelspec": {
   "display_name": "Julia 1.0.1",
   "language": "julia",
   "name": "julia-1.0"
  },
  "language_info": {
   "file_extension": ".jl",
   "mimetype": "application/julia",
   "name": "julia",
   "version": "1.0.1"
  }
 },
 "nbformat": 4,
 "nbformat_minor": 2
}
