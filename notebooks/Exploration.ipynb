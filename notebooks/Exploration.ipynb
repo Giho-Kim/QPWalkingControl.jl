{
 "cells": [
  {
   "cell_type": "code",
   "execution_count": 33,
   "metadata": {},
   "outputs": [
    {
     "data": {
      "text/plain": [
       "\"/home/twan/.julia/dev/PushRecovery/Project.toml\""
      ]
     },
     "execution_count": 33,
     "metadata": {},
     "output_type": "execute_result"
    }
   ],
   "source": [
    "using Pkg\n",
    "Pkg.activate(joinpath(@__DIR__, \"..\"))"
   ]
  },
  {
   "cell_type": "code",
   "execution_count": 34,
   "metadata": {},
   "outputs": [],
   "source": [
    "using LinearAlgebra\n",
    "using QPControl\n",
    "using QPControl.Trajectories\n",
    "using RigidBodyDynamics\n",
    "using RigidBodyDynamics.PDControl\n",
    "using RigidBodyDynamics.Contact\n",
    "using StaticArrays\n",
    "using AtlasRobot\n",
    "using Test\n",
    "using RigidBodySim\n",
    "using MathOptInterface\n",
    "using OSQP.MathOptInterfaceOSQP: OSQPSettings\n",
    "const MOI = MathOptInterface\n",
    "using OSQP\n",
    "using PushRecovery\n",
    "using PlanarConvexHulls\n",
    "BLAS.set_num_threads(1)"
   ]
  },
  {
   "cell_type": "code",
   "execution_count": 35,
   "metadata": {},
   "outputs": [
    {
     "name": "stdout",
     "output_type": "stream",
     "text": [
      "  0.003963 seconds (29.56 k allocations: 1.467 MiB)\n"
     ]
    }
   ],
   "source": [
    "@time AtlasRobot.mechanism(add_flat_ground=true);"
   ]
  },
  {
   "cell_type": "code",
   "execution_count": 36,
   "metadata": {},
   "outputs": [
    {
     "name": "stdout",
     "output_type": "stream",
     "text": [
      "  0.004749 seconds (29.56 k allocations: 1.534 MiB)\n"
     ]
    }
   ],
   "source": [
    "@time mechanism = AtlasRobot.mechanism(add_flat_ground=true);"
   ]
  },
  {
   "cell_type": "code",
   "execution_count": 37,
   "metadata": {},
   "outputs": [],
   "source": [
    "# static contact information\n",
    "soleframes = add_sole_frames!(mechanism)\n",
    "foot_polygons = make_foot_polygons(mechanism, soleframes; num_extreme_points=4);"
   ]
  },
  {
   "cell_type": "code",
   "execution_count": 38,
   "metadata": {},
   "outputs": [
    {
     "data": {
      "text/plain": [
       "RigidBody: \"pelvis\""
      ]
     },
     "execution_count": 38,
     "metadata": {},
     "output_type": "execute_result"
    }
   ],
   "source": [
    "# body lookup\n",
    "feet = findbody.(Ref(mechanism), [\"l_foot\", \"r_foot\"])\n",
    "pelvis = findbody(mechanism, \"pelvis\")"
   ]
  },
  {
   "cell_type": "code",
   "execution_count": 39,
   "metadata": {},
   "outputs": [],
   "source": [
    "# create low level controller\n",
    "lowlevel = let\n",
    "    optimizer = OSQP.Optimizer()\n",
    "    MOI.set(optimizer, OSQPSettings.Verbose(), false)\n",
    "    MOI.set(optimizer, OSQPSettings.EpsAbs(), 1e-5)\n",
    "    MOI.set(optimizer, OSQPSettings.EpsRel(), 1e-5)\n",
    "    MOI.set(optimizer, OSQPSettings.MaxIter(), 5000)\n",
    "    MOI.set(optimizer, OSQPSettings.AdaptiveRhoInterval(), 25) # required for deterministic behavior\n",
    "    lowlevel = MomentumBasedController{4}(mechanism, optimizer,\n",
    "        floatingjoint = findjoint(mechanism, \"pelvis_to_world\"));\n",
    "    for body in bodies(mechanism)\n",
    "        for point in RigidBodyDynamics.contact_points(body)\n",
    "            position = location(point)\n",
    "            normal = FreeVector3D(default_frame(body), 0.0, 0.0, 1.0)\n",
    "            μ = point.model.friction.μ\n",
    "            contact = addcontact!(lowlevel, body, position, normal, μ)\n",
    "            contact.maxnormalforce[] = 1e6 # TODO\n",
    "            contact.weight[] = 1e-3\n",
    "        end\n",
    "    end\n",
    "    lowlevel\n",
    "end;"
   ]
  },
  {
   "cell_type": "code",
   "execution_count": 40,
   "metadata": {},
   "outputs": [
    {
     "data": {
      "text/plain": [
       "MechanismState{Float64, Float64, Float64, …}(…)"
      ]
     },
     "execution_count": 40,
     "metadata": {},
     "output_type": "execute_result"
    }
   ],
   "source": [
    "nominalstate = MechanismState(mechanism)\n",
    "AtlasRobot.setnominal!(nominalstate)"
   ]
  },
  {
   "cell_type": "code",
   "execution_count": 41,
   "metadata": {},
   "outputs": [],
   "source": [
    "# ICP stuff\n",
    "zdes = center_of_mass(nominalstate).v[3] - 0.05\n",
    "gz = norm(mechanism.gravitational_acceleration)\n",
    "ω = sqrt(gz / zdes)\n",
    "icptraj = let\n",
    "    optimizer = OSQP.Optimizer()\n",
    "    MOI.set(optimizer, OSQPSettings.Verbose(), false)\n",
    "    MOI.set(optimizer, OSQPSettings.EpsAbs(), 1e-6)\n",
    "    MOI.set(optimizer, OSQPSettings.EpsRel(), 1e-8)\n",
    "    MOI.set(optimizer, OSQPSettings.MaxIter(), 10000)\n",
    "    MOI.set(optimizer, OSQPSettings.AdaptiveRhoInterval(), 25) # required for deterministic behavior\n",
    "    max_polygon_sides = 8 # TODO\n",
    "    num_segments = 1\n",
    "    ICPTrajectoryGenerator{Float64, max_polygon_sides}(optimizer, num_segments, ω)\n",
    "end\n",
    "# icptraj = let\n",
    "#     bodyid = BodyID(first(feet))\n",
    "#     foot_polygon_sole = foot_polygons[bodyid]\n",
    "#     foot_polygon_world = transform(foot_polygon_sole, transform_to_root(nominalstate, foot_polygon_sole.frame))\n",
    "#     initial_icp = horizontal_projection(icp(nominalstate, ω).v)\n",
    "#     final_icp = unwrap(@framechecked(centroid(foot_polygon_world)))\n",
    "#     f = fit_quintic(x0=0.0, xf=1.0, y0=0.0, yd0=0.0, ydd0=0.0, yf=1.0, ydf=0.0, yddf=0.0)\n",
    "#     traj = Interpolated(1.0, 3.0, initial_icp, final_icp, f, min_num_derivs=Val(1))\n",
    "# #     x -> (ret = traj(x, Val(1)); @show x, ret; ret)\n",
    "#     x -> traj(x, Val(1))\n",
    "# end\n",
    "linear_momentum_controller = ICPController(mechanism, icptraj, zdes);"
   ]
  },
  {
   "cell_type": "code",
   "execution_count": 42,
   "metadata": {},
   "outputs": [],
   "source": [
    "# create high level controller\n",
    "controller = PushRecoveryController(lowlevel, feet, pelvis, nominalstate, linear_momentum_controller);"
   ]
  },
  {
   "cell_type": "code",
   "execution_count": 43,
   "metadata": {},
   "outputs": [
    {
     "name": "stdout",
     "output_type": "stream",
     "text": [
      "cop_piece(generator, 1) = PushRecovery.BezierCurves.BezierCurve{3,SArray{Tuple{2},Float64,1,2}}(([0.0355528, -0.0504651], [-0.00391222, 0.0295858], [-0.0451339, 0.1132]))\n"
     ]
    }
   ],
   "source": [
    "# initialize ICP trajectory\n",
    "gz = norm(mechanism.gravitational_acceleration)\n",
    "transfer_weight!(icptraj, nominalstate, foot_polygons, BodyID(first(feet)); Δt=5.0);"
   ]
  },
  {
   "cell_type": "code",
   "execution_count": 44,
   "metadata": {},
   "outputs": [
    {
     "data": {
      "text/plain": [
       "MeshCat Visualizer with path /meshcat/icp"
      ]
     },
     "execution_count": 44,
     "metadata": {},
     "output_type": "execute_result"
    }
   ],
   "source": [
    "# create visualizer\n",
    "using MeshCat\n",
    "using MeshCatMechanisms\n",
    "using MechanismGeometries\n",
    "\n",
    "if !(@isdefined gui) || !any(isopen, MeshCatMechanisms.visualizer(gui.visualizer).core.scope.pool.connections)\n",
    "    pushapplier = PushApplier(mechanism, Point3D(default_frame(pelvis), 0.0, 0.0, 0.0))\n",
    "    link_colors = Dict(map(foot -> string(foot) => RGBA(0.7f0, 0.7f0, 0.7f0, 0.3f0), feet))\n",
    "    visuals = URDFVisuals(AtlasRobot.urdfpath(); package_path=[AtlasRobot.packagepath()], link_colors=link_colors)\n",
    "    vis = Visualizer()\n",
    "    mvis = MechanismVisualizer(mechanism, visuals, vis)\n",
    "    pvis = PushRecoveryVisualizer(mvis)\n",
    "    gui = GUI(pvis, usernode=Widget(pushapplier, max_force=100.0, max_Δt=0.3))\n",
    "    open(gui)\n",
    "    copyto!(gui.visualizer, nominalstate)\n",
    "end"
   ]
  },
  {
   "cell_type": "code",
   "execution_count": 45,
   "metadata": {},
   "outputs": [
    {
     "data": {
      "text/plain": [
       "\u001b[36mODEProblem\u001b[0m with uType \u001b[36mArray{Float64,1}\u001b[0m and tType \u001b[36mFloat64\u001b[0m. In-place: \u001b[36mtrue\u001b[0m\n",
       "timespan: (0.0, 10.0)\n",
       "u0: [1.0, 0.0, 0.0, 0.0, 0.0, 0.0, 0.85, 0.0, 0.0, 0.0  …  0.0, 0.0, 0.0, 0.0, 0.0, 0.0, 0.0, 0.0, 0.0, 0.0]"
      ]
     },
     "execution_count": 45,
     "metadata": {},
     "output_type": "execute_result"
    }
   ],
   "source": [
    "# create ODEProblem\n",
    "state = MechanismState(mechanism)\n",
    "AtlasRobot.setnominal!(state)\n",
    "Δt = 1 / 300\n",
    "pcontroller = PeriodicController(similar(velocity(state)), Δt, controller)\n",
    "# TODO: add damping\n",
    "dynamics = Dynamics(mechanism, pcontroller)\n",
    "# dynamics = Dynamics(mechanism, SumController(similar(velocity(state)), (pcontroller, pushapplier)))\n",
    "callback = CallbackSet(RealtimeRateLimiter(poll_interval=pi / 100), CallbackSet(gui))\n",
    "problem = ODEProblem(dynamics, state, (0., 10.0); callback=callback)"
   ]
  },
  {
   "cell_type": "code",
   "execution_count": 46,
   "metadata": {},
   "outputs": [
    {
     "name": "stdout",
     "output_type": "stream",
     "text": [
      " 10.169044 seconds (11.43 M allocations: 719.015 MiB, 5.06% gc time)\n"
     ]
    },
    {
     "data": {
      "text/plain": [
       "10.0"
      ]
     },
     "execution_count": 46,
     "metadata": {},
     "output_type": "execute_result"
    }
   ],
   "source": [
    "# simulate\n",
    "@time sol = solve(problem, Tsit5(), abs_tol = 1e-8, dt = 1e-6);\n",
    "last(sol.t)"
   ]
  },
  {
   "cell_type": "code",
   "execution_count": 47,
   "metadata": {},
   "outputs": [],
   "source": [
    "# using BenchmarkTools\n",
    "# AtlasRobot.setnominal!(state)\n",
    "# τ = similar(velocity(state));\n",
    "# benchresult = @benchmark $controller($τ, 0.0, $state)\n",
    "# @test benchresult.allocs == 0\n",
    "# benchresult"
   ]
  }
 ],
 "metadata": {
  "@webio": {
   "lastCommId": "42eacd2c14094f108fabcff19dffc041",
   "lastKernelId": "4780b098-b561-438c-bb52-939d9f7e6de1"
  },
  "kernelspec": {
   "display_name": "Julia 1.1.0",
   "language": "julia",
   "name": "julia-1.1"
  },
  "language_info": {
   "file_extension": ".jl",
   "mimetype": "application/julia",
   "name": "julia",
   "version": "1.1.0"
  }
 },
 "nbformat": 4,
 "nbformat_minor": 2
}
