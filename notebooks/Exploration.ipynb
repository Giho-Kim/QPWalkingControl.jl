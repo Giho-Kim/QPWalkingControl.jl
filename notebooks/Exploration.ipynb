{
 "cells": [
  {
   "cell_type": "code",
   "execution_count": 6,
   "metadata": {},
   "outputs": [
    {
     "data": {
      "text/plain": [
       "\"/home/twan/.julia/dev/PushRecovery/Project.toml\""
      ]
     },
     "execution_count": 6,
     "metadata": {},
     "output_type": "execute_result"
    }
   ],
   "source": [
    "using Pkg\n",
    "Pkg.activate(joinpath(@__DIR__, \"..\"))"
   ]
  },
  {
   "cell_type": "code",
   "execution_count": 13,
   "metadata": {},
   "outputs": [],
   "source": [
    "using LinearAlgebra\n",
    "using QPControl\n",
    "using RigidBodyDynamics\n",
    "using RigidBodyDynamics.PDControl\n",
    "using RigidBodyDynamics.Contact\n",
    "using StaticArrays\n",
    "using AtlasRobot\n",
    "using Test\n",
    "using RigidBodySim\n",
    "using MathOptInterface\n",
    "using OSQP.MathOptInterfaceOSQP: OSQPSettings\n",
    "const MOI = MathOptInterface\n",
    "using OSQP\n",
    "using PushRecovery\n",
    "BLAS.set_num_threads(1)"
   ]
  },
  {
   "cell_type": "code",
   "execution_count": 9,
   "metadata": {},
   "outputs": [
    {
     "name": "stdout",
     "output_type": "stream",
     "text": [
      "  7.765894 seconds (20.88 M allocations: 1.052 GiB, 7.04% gc time)\n"
     ]
    }
   ],
   "source": [
    "@time AtlasRobot.mechanism(add_flat_ground=true);"
   ]
  },
  {
   "cell_type": "code",
   "execution_count": 10,
   "metadata": {},
   "outputs": [
    {
     "name": "stdout",
     "output_type": "stream",
     "text": [
      "  0.008467 seconds (30.01 k allocations: 1.459 MiB)\n"
     ]
    }
   ],
   "source": [
    "@time mechanism = AtlasRobot.mechanism(add_flat_ground=true);"
   ]
  },
  {
   "cell_type": "code",
   "execution_count": 30,
   "metadata": {},
   "outputs": [],
   "source": [
    "# create low level controller\n",
    "lowlevel = let\n",
    "    optimizer = OSQP.Optimizer()\n",
    "    MOI.set(optimizer, OSQPSettings.Verbose(), false)\n",
    "    MOI.set(optimizer, OSQPSettings.EpsAbs(), 1e-5)\n",
    "    MOI.set(optimizer, OSQPSettings.EpsRel(), 1e-5)\n",
    "    MOI.set(optimizer, OSQPSettings.MaxIter(), 5000)\n",
    "    MOI.set(optimizer, OSQPSettings.AdaptiveRhoInterval(), 25) # required for deterministic behavior\n",
    "    lowlevel = MomentumBasedController{4}(mechanism, optimizer,\n",
    "        floatingjoint = findjoint(mechanism, \"pelvis_to_world\"));\n",
    "    for body in bodies(mechanism)\n",
    "        for point in RigidBodyDynamics.contact_points(body)\n",
    "            position = location(point)\n",
    "            normal = FreeVector3D(default_frame(body), 0.0, 0.0, 1.0)\n",
    "            μ = point.model.friction.μ\n",
    "            contact = addcontact!(lowlevel, body, position, normal, μ)\n",
    "            contact.maxnormalforce[] = 1e6 # TODO\n",
    "            contact.weight[] = 1e-3\n",
    "        end\n",
    "    end\n",
    "    lowlevel\n",
    "end;"
   ]
  },
  {
   "cell_type": "code",
   "execution_count": 31,
   "metadata": {},
   "outputs": [],
   "source": [
    "# create high level controller\n",
    "feet = findbody.(Ref(mechanism), [\"l_foot\", \"r_foot\"])\n",
    "pelvis = findbody(mechanism, \"pelvis\")\n",
    "nominalstate = MechanismState(mechanism)\n",
    "AtlasRobot.setnominal!(nominalstate)\n",
    "controller = let\n",
    "    atol_distance = 1e-3\n",
    "    convexhulloptimizer = OSQP.Optimizer()\n",
    "    MOI.set(convexhulloptimizer, OSQPSettings.Verbose(), false)\n",
    "    MOI.set(convexhulloptimizer, OSQPSettings.EpsAbs(), atol_distance^2)\n",
    "    MOI.set(convexhulloptimizer, OSQPSettings.EpsRel(), 1e-8)\n",
    "#     MOI.set(convexhulloptimizer, OSQPSettings.Polish(), true)\n",
    "#     MOI.set(convexhulloptimizer, OSQPSettings.AdaptiveRhoInterval(), 25) # required for deterministic behavior\n",
    "    PushRecoveryController(lowlevel, feet, pelvis, nominalstate, convexhulloptimizer)\n",
    "end;"
   ]
  },
  {
   "cell_type": "code",
   "execution_count": 32,
   "metadata": {},
   "outputs": [],
   "source": [
    "# create push applier\n",
    "pushapplier = PushApplier(mechanism, Point3D(default_frame(pelvis), 0.0, 0.0, 0.0));"
   ]
  },
  {
   "cell_type": "code",
   "execution_count": 33,
   "metadata": {},
   "outputs": [],
   "source": [
    "# create visualizer\n",
    "using MeshCat\n",
    "using MeshCatMechanisms\n",
    "\n",
    "if !(@isdefined gui) || !any(isopen, gui.visualizer.visualizer.core.scope.pool.connections)\n",
    "    visuals = URDFVisuals(AtlasRobot.urdfpath(); package_path = [AtlasRobot.packagepath()])\n",
    "    mvis = MechanismVisualizer(mechanism, visuals)\n",
    "    gui = GUI(mvis, usernode=Widget(pushapplier, max_force=100.0, max_Δt=0.3))\n",
    "    open(gui)\n",
    "end\n",
    "\n",
    "set_configuration!(gui.visualizer, configuration(nominalstate))"
   ]
  },
  {
   "cell_type": "code",
   "execution_count": 46,
   "metadata": {},
   "outputs": [
    {
     "data": {
      "text/plain": [
       "\u001b[36mODEProblem\u001b[0m with uType \u001b[36mArray{Float64,1}\u001b[0m and tType \u001b[36mFloat64\u001b[0m. In-place: \u001b[36mtrue\u001b[0m\n",
       "timespan: (0.0, Inf)\n",
       "u0: [1.0, 0.0, 0.0, 0.0, 0.0, 0.0, 0.85, 0.0, 0.0, 0.0  …  0.0, 0.0, 0.0, 0.0, 0.0, 0.0, 0.0, 0.0, 0.0, 0.0]"
      ]
     },
     "execution_count": 46,
     "metadata": {},
     "output_type": "execute_result"
    }
   ],
   "source": [
    "# create ODEProblem\n",
    "state = MechanismState(mechanism)\n",
    "AtlasRobot.setnominal!(state)\n",
    "Δt = 1 / 300\n",
    "pcontroller = PeriodicController(similar(velocity(state)), Δt, controller)\n",
    "# TODO: add damping\n",
    "dynamics = Dynamics(mechanism, SumController(similar(velocity(state)), (pcontroller, pushapplier)))\n",
    "callback = CallbackSet(RealtimeRateLimiter(poll_interval=pi / 100), CallbackSet(gui))\n",
    "problem = ODEProblem(dynamics, state, (0., Inf); callback=callback)"
   ]
  },
  {
   "cell_type": "code",
   "execution_count": 48,
   "metadata": {},
   "outputs": [
    {
     "name": "stdout",
     "output_type": "stream",
     "text": [
      " 74.726553 seconds (76.46 M allocations: 4.546 GiB, 6.17% gc time)\n"
     ]
    },
    {
     "data": {
      "text/plain": [
       "73.8256923926877"
      ]
     },
     "execution_count": 48,
     "metadata": {},
     "output_type": "execute_result"
    }
   ],
   "source": [
    "# simulate\n",
    "@time sol = solve(problem, Tsit5(), abs_tol = 1e-8, dt = 1e-6);\n",
    "last(sol.t)"
   ]
  },
  {
   "cell_type": "code",
   "execution_count": 40,
   "metadata": {},
   "outputs": [],
   "source": [
    "setanimation!(mvis, sol)"
   ]
  },
  {
   "cell_type": "code",
   "execution_count": 13,
   "metadata": {},
   "outputs": [],
   "source": [
    "# using BenchmarkTools\n",
    "# AtlasRobot.setnominal!(state)\n",
    "# τ = similar(velocity(state));\n",
    "# benchresult = @benchmark $controller($τ, 0.0, $state)\n",
    "# @test benchresult.allocs == 0\n",
    "# benchresult"
   ]
  },
  {
   "cell_type": "code",
   "execution_count": null,
   "metadata": {},
   "outputs": [],
   "source": []
  }
 ],
 "metadata": {
  "@webio": {
   "lastCommId": "cd46b0686b76430e8477e4c61b3996d8",
   "lastKernelId": "de30f65f-fb35-405b-9a32-602599cfe442"
  },
  "kernelspec": {
   "display_name": "Julia 1.0.3",
   "language": "julia",
   "name": "julia-1.0"
  },
  "language_info": {
   "file_extension": ".jl",
   "mimetype": "application/julia",
   "name": "julia",
   "version": "1.0.3"
  }
 },
 "nbformat": 4,
 "nbformat_minor": 2
}
