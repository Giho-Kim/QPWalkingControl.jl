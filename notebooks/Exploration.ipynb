{
 "cells": [
  {
   "cell_type": "code",
   "execution_count": 101,
   "metadata": {},
   "outputs": [
    {
     "name": "stdout",
     "output_type": "stream",
     "text": [
      "\u001b[32m\u001b[1m  Updating\u001b[22m\u001b[39m registry at `~/.julia/registries/General`\n",
      "\u001b[32m\u001b[1m  Updating\u001b[22m\u001b[39m git-repo `ssh://git@github.com/JuliaRegistries/General.git`\n",
      "\u001b[?25l\u001b[2K\u001b[?25h"
     ]
    }
   ],
   "source": [
    "using Pkg\n",
    "Pkg.activate(joinpath(@__DIR__, \"..\"))\n",
    "Pkg.instantiate()"
   ]
  },
  {
   "cell_type": "code",
   "execution_count": 102,
   "metadata": {},
   "outputs": [],
   "source": [
    "using LinearAlgebra\n",
    "using QPControl\n",
    "using QPControl.Trajectories\n",
    "using RigidBodyDynamics\n",
    "using RigidBodyDynamics.PDControl\n",
    "using RigidBodyDynamics.Contact\n",
    "using StaticArrays\n",
    "using AtlasRobot\n",
    "using Test\n",
    "using RigidBodySim\n",
    "using MathOptInterface\n",
    "using OSQP.MathOptInterfaceOSQP: OSQPSettings\n",
    "const MOI = MathOptInterface\n",
    "using OSQP\n",
    "using PushRecovery\n",
    "using PlanarConvexHulls\n",
    "using Rotations\n",
    "BLAS.set_num_threads(1)"
   ]
  },
  {
   "cell_type": "code",
   "execution_count": 103,
   "metadata": {},
   "outputs": [],
   "source": [
    "if !(@isdefined mechanism)\n",
    "    mechanism = AtlasRobot.mechanism(add_flat_ground=true);\n",
    "end\n",
    "\n",
    "# static contact information\n",
    "soleframes = add_sole_frames!(mechanism)\n",
    "foot_polygons = make_foot_polygons(mechanism, soleframes; num_extreme_points=4);\n",
    "\n",
    "# body lookup\n",
    "feet = findbody.(Ref(mechanism), [\"l_foot\", \"r_foot\"])\n",
    "pelvis = findbody(mechanism, \"pelvis\");"
   ]
  },
  {
   "cell_type": "code",
   "execution_count": 104,
   "metadata": {},
   "outputs": [],
   "source": [
    "# create low level controller\n",
    "lowlevel = let\n",
    "    optimizer = OSQP.Optimizer()\n",
    "    MOI.set(optimizer, OSQPSettings.Verbose(), false)\n",
    "    MOI.set(optimizer, OSQPSettings.EpsAbs(), 1e-5)\n",
    "    MOI.set(optimizer, OSQPSettings.EpsRel(), 1e-5)\n",
    "    MOI.set(optimizer, OSQPSettings.MaxIter(), 5000)\n",
    "    MOI.set(optimizer, OSQPSettings.AdaptiveRhoInterval(), 25) # required for deterministic behavior\n",
    "    lowlevel = MomentumBasedController{4}(mechanism, optimizer,\n",
    "        floatingjoint = findjoint(mechanism, \"pelvis_to_world\"));\n",
    "    for body in bodies(mechanism)\n",
    "        for point in RigidBodyDynamics.contact_points(body)\n",
    "            position = location(point)\n",
    "            normal = FreeVector3D(default_frame(body), 0.0, 0.0, 1.0)\n",
    "            μ = point.model.friction.μ\n",
    "            contact = addcontact!(lowlevel, body, position, normal, μ)\n",
    "            contact.maxnormalforce[] = 1e6 # TODO\n",
    "            contact.weight[] = 1e-3\n",
    "        end\n",
    "    end\n",
    "    lowlevel\n",
    "end;"
   ]
  },
  {
   "cell_type": "code",
   "execution_count": 105,
   "metadata": {},
   "outputs": [
    {
     "data": {
      "text/plain": [
       "MechanismState{Float64, Float64, Float64, …}(…)"
      ]
     },
     "execution_count": 105,
     "metadata": {},
     "output_type": "execute_result"
    }
   ],
   "source": [
    "nominalstate = MechanismState(mechanism)\n",
    "AtlasRobot.setnominal!(nominalstate)"
   ]
  },
  {
   "cell_type": "code",
   "execution_count": 106,
   "metadata": {},
   "outputs": [],
   "source": [
    "# ICP stuff\n",
    "zdes = center_of_mass(nominalstate).v[3] - 0.05\n",
    "gz = norm(mechanism.gravitational_acceleration)\n",
    "ω = sqrt(gz / zdes)\n",
    "icptraj = let\n",
    "    optimizer = OSQP.Optimizer()\n",
    "    MOI.set(optimizer, OSQPSettings.Verbose(), false)\n",
    "    MOI.set(optimizer, OSQPSettings.EpsAbs(), 1e-6)\n",
    "    MOI.set(optimizer, OSQPSettings.EpsRel(), 1e-8)\n",
    "    MOI.set(optimizer, OSQPSettings.MaxIter(), 10000)\n",
    "    MOI.set(optimizer, OSQPSettings.AdaptiveRhoInterval(), 25) # required for deterministic behavior\n",
    "    max_polygon_sides = 6 # TODO\n",
    "    num_segments = 9\n",
    "    ICPTrajectoryGenerator{Float64, max_polygon_sides}(optimizer, num_segments, ω)\n",
    "end\n",
    "linear_momentum_controller = ICPController(mechanism, icptraj, zdes);"
   ]
  },
  {
   "cell_type": "code",
   "execution_count": 107,
   "metadata": {},
   "outputs": [],
   "source": [
    "# walking state machine\n",
    "statemachine = let\n",
    "    contacts = Dict(BodyID(body) => contact for (body, contact) in lowlevel.contacts)\n",
    "    ICPWalkingStateMachine(mechanism, contacts, icptraj)\n",
    "end;"
   ]
  },
  {
   "cell_type": "code",
   "execution_count": 108,
   "metadata": {},
   "outputs": [],
   "source": [
    "PushRecovery.init_footstep_plan!(statemachine, nominalstate, foot_polygons);"
   ]
  },
  {
   "cell_type": "code",
   "execution_count": 109,
   "metadata": {},
   "outputs": [],
   "source": [
    "# create high level controller\n",
    "controller = PushRecoveryController(lowlevel, pelvis, nominalstate, \n",
    "    statemachine, collect(values(statemachine.end_effector_controllers)), linear_momentum_controller);"
   ]
  },
  {
   "cell_type": "code",
   "execution_count": 110,
   "metadata": {},
   "outputs": [],
   "source": [
    "# create visualizer\n",
    "using MeshCat\n",
    "using MeshCatMechanisms\n",
    "using MechanismGeometries\n",
    "\n",
    "if !(@isdefined gui) || !any(isopen, MeshCatMechanisms.visualizer(gui.visualizer).core.scope.pool.connections)\n",
    "    pushapplier = PushApplier(mechanism, Point3D(default_frame(pelvis), 0.0, 0.0, 0.0))\n",
    "    link_colors = Dict(map(foot -> string(foot) => RGBA(0.7f0, 0.7f0, 0.7f0, 0.3f0), feet))\n",
    "    visuals = URDFVisuals(AtlasRobot.urdfpath(); package_path=[AtlasRobot.packagepath()], link_colors=link_colors)\n",
    "    vis = Visualizer()\n",
    "    mvis = MechanismVisualizer(mechanism, visuals, vis)\n",
    "    pvis = PushRecoveryVisualizer(mvis)\n",
    "    gui = GUI(pvis, usernode=Widget(pushapplier, max_force=100.0, max_Δt=0.3))\n",
    "    open(gui)\n",
    "end\n",
    "copyto!(gui.visualizer, nominalstate);"
   ]
  },
  {
   "cell_type": "code",
   "execution_count": 111,
   "metadata": {},
   "outputs": [
    {
     "data": {
      "text/plain": [
       "\u001b[36mODEProblem\u001b[0m with uType \u001b[36mArray{Float64,1}\u001b[0m and tType \u001b[36mFloat64\u001b[0m. In-place: \u001b[36mtrue\u001b[0m\n",
       "timespan: (0.0, 15.0)\n",
       "u0: [1.0, 0.0, 0.0, 0.0, 0.0, 0.0, 0.85, 0.0, 0.0, 0.0  …  0.0, 0.0, 0.0, 0.0, 0.0, 0.0, 0.0, 0.0, 0.0, 0.0]"
      ]
     },
     "execution_count": 111,
     "metadata": {},
     "output_type": "execute_result"
    }
   ],
   "source": [
    "# create ODEProblem\n",
    "state = MechanismState(mechanism)\n",
    "AtlasRobot.setnominal!(state)\n",
    "Δt = 1 / 300\n",
    "pcontroller = PeriodicController(similar(velocity(state)), Δt, controller)\n",
    "# TODO: add damping\n",
    "# dynamics = Dynamics(mechanism, pcontroller)\n",
    "dynamics = Dynamics(mechanism, SumController(similar(velocity(state)), (pcontroller, pushapplier)))\n",
    "callback = CallbackSet(RealtimeRateLimiter(poll_interval=pi / 100), CallbackSet(gui))\n",
    "problem = ODEProblem(dynamics, state, (0., 15.0); callback=callback)"
   ]
  },
  {
   "cell_type": "code",
   "execution_count": 112,
   "metadata": {},
   "outputs": [
    {
     "name": "stdout",
     "output_type": "stream",
     "text": [
      " 15.534481 seconds (16.76 M allocations: 1.022 GiB, 8.00% gc time)\n"
     ]
    },
    {
     "data": {
      "text/plain": [
       "15.0"
      ]
     },
     "execution_count": 112,
     "metadata": {},
     "output_type": "execute_result"
    }
   ],
   "source": [
    "# simulate\n",
    "@time sol = solve(problem, Tsit5(), abs_tol = 1e-8, dt = 1e-6);\n",
    "last(sol.t)"
   ]
  },
  {
   "cell_type": "code",
   "execution_count": 113,
   "metadata": {},
   "outputs": [],
   "source": [
    "setanimation!(mvis, sol)"
   ]
  },
  {
   "cell_type": "code",
   "execution_count": 114,
   "metadata": {},
   "outputs": [],
   "source": [
    "# using BenchmarkTools\n",
    "# AtlasRobot.setnominal!(state)\n",
    "# τ = similar(velocity(state));\n",
    "# benchresult = @benchmark $controller($τ, 0.0, $state)\n",
    "# @test benchresult.allocs == 0\n",
    "# benchresult"
   ]
  },
  {
   "cell_type": "code",
   "execution_count": null,
   "metadata": {},
   "outputs": [],
   "source": []
  }
 ],
 "metadata": {
  "@webio": {
   "lastCommId": null,
   "lastKernelId": null
  },
  "kernelspec": {
   "display_name": "Julia 1.1.0",
   "language": "julia",
   "name": "julia-1.1"
  },
  "language_info": {
   "file_extension": ".jl",
   "mimetype": "application/julia",
   "name": "julia",
   "version": "1.1.0"
  }
 },
 "nbformat": 4,
 "nbformat_minor": 2
}
