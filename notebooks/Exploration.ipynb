{
 "cells": [
  {
   "cell_type": "code",
   "execution_count": 51,
   "metadata": {},
   "outputs": [
    {
     "data": {
      "text/plain": [
       "\"/home/twan/.julia/dev/PushRecovery/Project.toml\""
      ]
     },
     "execution_count": 51,
     "metadata": {},
     "output_type": "execute_result"
    }
   ],
   "source": [
    "using Pkg\n",
    "Pkg.activate(joinpath(@__DIR__, \"..\"))"
   ]
  },
  {
   "cell_type": "code",
   "execution_count": 52,
   "metadata": {},
   "outputs": [],
   "source": [
    "using LinearAlgebra\n",
    "using QPControl\n",
    "using RigidBodyDynamics\n",
    "using RigidBodyDynamics.PDControl\n",
    "using RigidBodyDynamics.Contact\n",
    "using StaticArrays\n",
    "using AtlasRobot\n",
    "using Test\n",
    "using RigidBodySim\n",
    "using MathOptInterface\n",
    "using OSQP.MathOptInterfaceOSQP: OSQPSettings\n",
    "const MOI = MathOptInterface\n",
    "using OSQP\n",
    "using PushRecovery\n",
    "BLAS.set_num_threads(1)"
   ]
  },
  {
   "cell_type": "code",
   "execution_count": 53,
   "metadata": {},
   "outputs": [
    {
     "name": "stdout",
     "output_type": "stream",
     "text": [
      "  0.005842 seconds (30.01 k allocations: 1.459 MiB)\n"
     ]
    }
   ],
   "source": [
    "@time AtlasRobot.mechanism(add_flat_ground=true);"
   ]
  },
  {
   "cell_type": "code",
   "execution_count": 54,
   "metadata": {},
   "outputs": [
    {
     "name": "stdout",
     "output_type": "stream",
     "text": [
      "  0.003865 seconds (30.01 k allocations: 1.459 MiB)\n"
     ]
    }
   ],
   "source": [
    "@time mechanism = AtlasRobot.mechanism(add_flat_ground=true);"
   ]
  },
  {
   "cell_type": "code",
   "execution_count": 55,
   "metadata": {},
   "outputs": [],
   "source": [
    "# create low level controller\n",
    "lowlevel = let\n",
    "    optimizer = OSQP.Optimizer()\n",
    "    MOI.set(optimizer, OSQPSettings.Verbose(), false)\n",
    "    MOI.set(optimizer, OSQPSettings.EpsAbs(), 1e-5)\n",
    "    MOI.set(optimizer, OSQPSettings.EpsRel(), 1e-5)\n",
    "    MOI.set(optimizer, OSQPSettings.MaxIter(), 5000)\n",
    "    MOI.set(optimizer, OSQPSettings.AdaptiveRhoInterval(), 25) # required for deterministic behavior\n",
    "    lowlevel = MomentumBasedController{4}(mechanism, optimizer,\n",
    "        floatingjoint = findjoint(mechanism, \"pelvis_to_world\"));\n",
    "    for body in bodies(mechanism)\n",
    "        for point in RigidBodyDynamics.contact_points(body)\n",
    "            position = location(point)\n",
    "            normal = FreeVector3D(default_frame(body), 0.0, 0.0, 1.0)\n",
    "            μ = point.model.friction.μ\n",
    "            contact = addcontact!(lowlevel, body, position, normal, μ)\n",
    "            contact.maxnormalforce[] = 1e6 # TODO\n",
    "            contact.weight[] = 1e-3\n",
    "        end\n",
    "    end\n",
    "    lowlevel\n",
    "end;"
   ]
  },
  {
   "cell_type": "code",
   "execution_count": 56,
   "metadata": {},
   "outputs": [],
   "source": [
    "# create high level controller\n",
    "feet = findbody.(Ref(mechanism), [\"l_foot\", \"r_foot\"])\n",
    "pelvis = findbody(mechanism, \"pelvis\")\n",
    "nominalstate = MechanismState(mechanism)\n",
    "AtlasRobot.setnominal!(nominalstate)\n",
    "controller = let\n",
    "    atol_distance = 1e-3\n",
    "    convexhulloptimizer = OSQP.Optimizer()\n",
    "    MOI.set(convexhulloptimizer, OSQPSettings.Verbose(), false)\n",
    "    MOI.set(convexhulloptimizer, OSQPSettings.EpsAbs(), atol_distance^2)\n",
    "    MOI.set(convexhulloptimizer, OSQPSettings.EpsRel(), 1e-8)\n",
    "#     MOI.set(convexhulloptimizer, OSQPSettings.Polish(), true)\n",
    "#     MOI.set(convexhulloptimizer, OSQPSettings.AdaptiveRhoInterval(), 25) # required for deterministic behavior\n",
    "    PushRecoveryController(lowlevel, feet, pelvis, nominalstate, convexhulloptimizer)\n",
    "end;"
   ]
  },
  {
   "cell_type": "code",
   "execution_count": 57,
   "metadata": {},
   "outputs": [],
   "source": [
    "# create push applier\n",
    "pushapplier = PushApplier(mechanism, Point3D(default_frame(pelvis), 0.0, 0.0, 0.0));"
   ]
  },
  {
   "cell_type": "code",
   "execution_count": 58,
   "metadata": {},
   "outputs": [],
   "source": [
    "# create visualizer\n",
    "using MeshCat\n",
    "using MeshCatMechanisms\n",
    "\n",
    "if !(@isdefined gui) || !any(isopen, gui.visualizer.visualizer.core.scope.pool.connections)\n",
    "    visuals = URDFVisuals(AtlasRobot.urdfpath(); package_path = [AtlasRobot.packagepath()])\n",
    "    mvis = MechanismVisualizer(mechanism, visuals)\n",
    "    gui = GUI(mvis, usernode=Widget(pushapplier, max_force=100.0, max_Δt=0.3))\n",
    "    open(gui)\n",
    "end\n",
    "\n",
    "set_configuration!(gui.visualizer, configuration(nominalstate))"
   ]
  },
  {
   "cell_type": "code",
   "execution_count": 59,
   "metadata": {},
   "outputs": [
    {
     "data": {
      "text/plain": [
       "\u001b[36mODEProblem\u001b[0m with uType \u001b[36mArray{Float64,1}\u001b[0m and tType \u001b[36mFloat64\u001b[0m. In-place: \u001b[36mtrue\u001b[0m\n",
       "timespan: (0.0, Inf)\n",
       "u0: [1.0, 0.0, 0.0, 0.0, 0.0, 0.0, 0.85, 0.0, 0.0, 0.0  …  0.0, 0.0, 0.0, 0.0, 0.0, 0.0, 0.0, 0.0, 0.0, 0.0]"
      ]
     },
     "execution_count": 59,
     "metadata": {},
     "output_type": "execute_result"
    }
   ],
   "source": [
    "# create ODEProblem\n",
    "state = MechanismState(mechanism)\n",
    "AtlasRobot.setnominal!(state)\n",
    "Δt = 1 / 300\n",
    "pcontroller = PeriodicController(similar(velocity(state)), Δt, controller)\n",
    "# TODO: add damping\n",
    "dynamics = Dynamics(mechanism, SumController(similar(velocity(state)), (pcontroller, pushapplier)))\n",
    "callback = CallbackSet(RealtimeRateLimiter(poll_interval=pi / 100), CallbackSet(gui))\n",
    "problem = ODEProblem(dynamics, state, (0., Inf); callback=callback)"
   ]
  },
  {
   "cell_type": "code",
   "execution_count": 60,
   "metadata": {},
   "outputs": [
    {
     "name": "stdout",
     "output_type": "stream",
     "text": [
      "cmp_des - cmp_des_projected = FreeVector3D in \"world\": [0.000349535, -9.33877e-8, 0.0]\n",
      "cmp_des - cmp_des_projected = FreeVector3D in \"world\": [0.000706034, -1.74996e-7, 0.0]\n",
      "cmp_des - cmp_des_projected = FreeVector3D in \"world\": [0.000970638, -2.19574e-7, 0.0]\n",
      "cmp_des - cmp_des_projected = FreeVector3D in \"world\": [0.00114833, -2.33674e-7, 0.0]\n",
      "cmp_des - cmp_des_projected = FreeVector3D in \"world\": [0.0012404, -2.24452e-7, 0.0]\n",
      "cmp_des - cmp_des_projected = FreeVector3D in \"world\": [0.00125588, -2.00622e-7, 0.0]\n",
      "cmp_des - cmp_des_projected = FreeVector3D in \"world\": [0.00120611, -1.7001e-7, 0.0]\n",
      "cmp_des - cmp_des_projected = FreeVector3D in \"world\": [0.00110589, -1.38563e-7, 0.0]\n",
      "cmp_des - cmp_des_projected = FreeVector3D in \"world\": [0.000972809, -1.10179e-7, 0.0]\n",
      "cmp_des - cmp_des_projected = FreeVector3D in \"world\": [0.000829657, -8.71003e-8, 0.0]\n",
      "cmp_des - cmp_des_projected = FreeVector3D in \"world\": [0.000695586, -6.98853e-8, 0.0]\n",
      "cmp_des - cmp_des_projected = FreeVector3D in \"world\": [0.000590028, -5.87544e-8, 0.0]\n",
      "cmp_des - cmp_des_projected = FreeVector3D in \"world\": [0.000531555, -5.42322e-8, 0.0]\n",
      "cmp_des - cmp_des_projected = FreeVector3D in \"world\": [0.000532985, -6.80927e-9, 0.0]\n",
      "cmp_des - cmp_des_projected = FreeVector3D in \"world\": [0.00061053, -7.11903e-8, 0.0]\n",
      "cmp_des - cmp_des_projected = FreeVector3D in \"world\": [0.000772735, -9.90724e-8, 0.0]\n",
      "cmp_des - cmp_des_projected = FreeVector3D in \"world\": [0.00102295, -1.45368e-7, 0.0]\n",
      "cmp_des - cmp_des_projected = FreeVector3D in \"world\": [0.00136359, -2.15186e-7, 0.0]\n",
      "cmp_des - cmp_des_projected = FreeVector3D in \"world\": [0.00178781, -3.12027e-7, 0.0]\n",
      "cmp_des - cmp_des_projected = FreeVector3D in \"world\": [0.00226954, -4.34028e-7, 0.0]\n",
      "cmp_des - cmp_des_projected = FreeVector3D in \"world\": [0.000665083, -1.37788e-7, 0.0]\n",
      "cmp_des - cmp_des_projected = FreeVector3D in \"world\": [0.000638477, -1.07444e-7, 0.0]\n",
      "cmp_des - cmp_des_projected = FreeVector3D in \"world\": [0.00141464, -2.43598e-7, 0.0]\n",
      "cmp_des - cmp_des_projected = FreeVector3D in \"world\": [0.00216969, -3.86268e-7, 0.0]\n",
      "cmp_des - cmp_des_projected = FreeVector3D in \"world\": [0.00288532, -5.33975e-7, 0.0]\n",
      "cmp_des - cmp_des_projected = FreeVector3D in \"world\": [0.00353797, -6.8126e-7, 0.0]\n",
      "cmp_des - cmp_des_projected = FreeVector3D in \"world\": [0.00404001, -6.9283e-7, 0.0]\n",
      "cmp_des - cmp_des_projected = FreeVector3D in \"world\": [0.0045222, -8.02597e-7, 0.0]\n",
      "cmp_des - cmp_des_projected = FreeVector3D in \"world\": [0.00491043, -8.95781e-7, 0.0]\n",
      "cmp_des - cmp_des_projected = FreeVector3D in \"world\": [0.0052059, -9.68102e-7, 0.0]\n",
      "cmp_des - cmp_des_projected = FreeVector3D in \"world\": [0.00541669, -1.01753e-6, 0.0]\n",
      "cmp_des - cmp_des_projected = FreeVector3D in \"world\": [0.00555671, -1.04437e-6, 0.0]\n",
      "cmp_des - cmp_des_projected = FreeVector3D in \"world\": [0.00564247, -1.05069e-6, 0.0]\n",
      "cmp_des - cmp_des_projected = FreeVector3D in \"world\": [0.00568936, -1.03942e-6, 0.0]\n",
      "cmp_des - cmp_des_projected = FreeVector3D in \"world\": [0.00571549, -1.01468e-6, 0.0]\n",
      "cmp_des - cmp_des_projected = FreeVector3D in \"world\": [0.0057376, -9.80458e-7, 0.0]\n",
      "cmp_des - cmp_des_projected = FreeVector3D in \"world\": [0.00577403, -9.41682e-7, 0.0]\n",
      "cmp_des - cmp_des_projected = FreeVector3D in \"world\": [0.00583998, -9.01415e-7, 0.0]\n",
      "cmp_des - cmp_des_projected = FreeVector3D in \"world\": [0.00595116, -8.63128e-7, 0.0]\n",
      "cmp_des - cmp_des_projected = FreeVector3D in \"world\": [0.00612189, -8.29523e-7, 0.0]\n",
      "cmp_des - cmp_des_projected = FreeVector3D in \"world\": [0.00636402, -8.02749e-7, 0.0]\n",
      "cmp_des - cmp_des_projected = FreeVector3D in \"world\": [0.00668894, -7.84961e-7, 0.0]\n",
      "cmp_des - cmp_des_projected = FreeVector3D in \"world\": [0.00710147, -7.7788e-7, 0.0]\n",
      "cmp_des - cmp_des_projected = FreeVector3D in \"world\": [0.00760393, -7.83658e-7, 0.0]\n",
      "cmp_des - cmp_des_projected = FreeVector3D in \"world\": [0.00819289, -8.04403e-7, 0.0]\n",
      "cmp_des - cmp_des_projected = FreeVector3D in \"world\": [0.00883907, -8.4371e-7, 0.0]\n",
      "cmp_des - cmp_des_projected = FreeVector3D in \"world\": [0.00732905, -6.93285e-7, 0.0]\n",
      "cmp_des - cmp_des_projected = FreeVector3D in \"world\": [0.00581521, -5.54783e-7, 0.0]\n",
      "cmp_des - cmp_des_projected = FreeVector3D in \"world\": [0.00424395, -3.99616e-7, 0.0]\n",
      "cmp_des - cmp_des_projected = FreeVector3D in \"world\": [0.00256843, -2.2533e-7, 0.0]\n",
      "cmp_des - cmp_des_projected = FreeVector3D in \"world\": [0.000750302, -5.63999e-8, 0.0]\n",
      "cmp_des - cmp_des_projected = FreeVector3D in \"world\": [0.000275132, -1.13334e-7, 0.0]\n",
      "cmp_des - cmp_des_projected = FreeVector3D in \"world\": [0.00116371, -4.90764e-7, 0.0]\n",
      "cmp_des - cmp_des_projected = FreeVector3D in \"world\": [0.00200175, -8.42557e-7, 0.0]\n",
      "cmp_des - cmp_des_projected = FreeVector3D in \"world\": [0.0027838, -1.1414e-6, 0.0]\n",
      "cmp_des - cmp_des_projected = FreeVector3D in \"world\": [0.00351191, -1.36995e-6, 0.0]\n",
      "cmp_des - cmp_des_projected = FreeVector3D in \"world\": [0.00415925, -1.36588e-6, 0.0]\n",
      "cmp_des - cmp_des_projected = FreeVector3D in \"world\": [0.00477884, -1.43248e-6, 0.0]\n",
      "cmp_des - cmp_des_projected = FreeVector3D in \"world\": [0.00534072, -1.41755e-6, 0.0]\n",
      "cmp_des - cmp_des_projected = FreeVector3D in \"world\": [0.00585776, -1.31535e-6, 0.0]\n",
      "cmp_des - cmp_des_projected = FreeVector3D in \"world\": [0.00634811, -1.12872e-6, 0.0]\n",
      "cmp_des - cmp_des_projected = FreeVector3D in \"world\": [0.00683078, -8.67396e-7, 0.0]\n",
      "cmp_des - cmp_des_projected = FreeVector3D in \"world\": [0.0073235, -5.50222e-7, 0.0]\n",
      "cmp_des - cmp_des_projected = FreeVector3D in \"world\": [0.007842, -2.07138e-7, 0.0]\n",
      "cmp_des - cmp_des_projected = FreeVector3D in \"world\": [0.00839811, 1.21216e-7, 0.0]\n",
      "cmp_des - cmp_des_projected = FreeVector3D in \"world\": [0.0089925, 4.02389e-7, 0.0]\n",
      "cmp_des - cmp_des_projected = FreeVector3D in \"world\": [0.00962919, 6.18693e-7, 0.0]\n",
      "cmp_des - cmp_des_projected = FreeVector3D in \"world\": [0.0103137, 7.6173e-7, 0.0]\n",
      "cmp_des - cmp_des_projected = FreeVector3D in \"world\": [0.0110524, 8.33507e-7, 0.0]\n",
      "cmp_des - cmp_des_projected = FreeVector3D in \"world\": [0.0118518, 8.39586e-7, 0.0]\n",
      "cmp_des - cmp_des_projected = FreeVector3D in \"world\": [0.0127168, 7.82408e-7, 0.0]\n",
      "cmp_des - cmp_des_projected = FreeVector3D in \"world\": [0.0136499, 6.57312e-7, 0.0]\n",
      "cmp_des - cmp_des_projected = FreeVector3D in \"world\": [0.014649, 4.51513e-7, 0.0]\n",
      "cmp_des - cmp_des_projected = FreeVector3D in \"world\": [0.0157107, 1.46842e-7, 0.0]\n",
      "cmp_des - cmp_des_projected = FreeVector3D in \"world\": [0.0168242, -2.74422e-7, 0.0]\n",
      "cmp_des - cmp_des_projected = FreeVector3D in \"world\": [0.0179756, -8.21167e-7, 0.0]\n",
      "cmp_des - cmp_des_projected = FreeVector3D in \"world\": [0.0191487, -1.48558e-6, 0.0]\n",
      "cmp_des - cmp_des_projected = FreeVector3D in \"world\": [0.0203256, -2.2381e-6, 0.0]\n",
      "cmp_des - cmp_des_projected = FreeVector3D in \"world\": [0.0214882, -3.02726e-6, 0.0]\n",
      "cmp_des - cmp_des_projected = FreeVector3D in \"world\": [0.0226191, -3.78485e-6, 0.0]\n",
      "cmp_des - cmp_des_projected = FreeVector3D in \"world\": [0.0237062, -4.43628e-6, 0.0]\n",
      "cmp_des - cmp_des_projected = FreeVector3D in \"world\": [0.0247374, -4.91123e-6, 0.0]\n",
      "cmp_des - cmp_des_projected = FreeVector3D in \"world\": [0.0257052, -5.15508e-6, 0.0]\n",
      "cmp_des - cmp_des_projected = FreeVector3D in \"world\": [0.0266059, -5.13615e-6, 0.0]\n",
      "cmp_des - cmp_des_projected = FreeVector3D in \"world\": [0.0274397, -4.84839e-6, 0.0]\n",
      "cmp_des - cmp_des_projected = FreeVector3D in \"world\": [0.0282089, -4.3094e-6, 0.0]\n",
      "cmp_des - cmp_des_projected = FreeVector3D in \"world\": [0.0289218, -3.55573e-6, 0.0]\n",
      "cmp_des - cmp_des_projected = FreeVector3D in \"world\": [0.0295861, -2.63493e-6, 0.0]\n",
      "cmp_des - cmp_des_projected = FreeVector3D in \"world\": [0.0302131, -1.59934e-6, 0.0]\n",
      "cmp_des - cmp_des_projected = FreeVector3D in \"world\": [0.0308156, -5.00604e-7, 0.0]\n",
      "cmp_des - cmp_des_projected = FreeVector3D in \"world\": [0.0314071, 5.98792e-7, 0.0]\n",
      "cmp_des - cmp_des_projected = FreeVector3D in \"world\": [0.0320017, 1.65483e-6, 0.0]\n",
      "cmp_des - cmp_des_projected = FreeVector3D in \"world\": [0.0326108, 2.69818e-6, 0.0]\n",
      "cmp_des - cmp_des_projected = FreeVector3D in \"world\": [0.0332457, 3.85165e-6, 0.0]\n",
      "cmp_des - cmp_des_projected = FreeVector3D in \"world\": [0.0339268, 5.22495e-6, 0.0]\n",
      "cmp_des - cmp_des_projected = FreeVector3D in \"world\": [0.0346856, 6.86574e-6, 0.0]\n",
      "cmp_des - cmp_des_projected = FreeVector3D in \"world\": [0.0330089, 8.07531e-6, 0.0]\n",
      "cmp_des - cmp_des_projected = FreeVector3D in \"world\": [0.0314245, 9.08225e-6, 0.0]\n",
      "cmp_des - cmp_des_projected = FreeVector3D in \"world\": [0.0299356, 9.6305e-6, 0.0]\n",
      "cmp_des - cmp_des_projected = FreeVector3D in \"world\": [0.0285432, 9.54286e-6, 0.0]\n",
      "cmp_des - cmp_des_projected = FreeVector3D in \"world\": [0.0272169, 8.80014e-6, 0.0]\n",
      "cmp_des - cmp_des_projected = FreeVector3D in \"world\": [0.025912, 7.51624e-6, 0.0]\n",
      "cmp_des - cmp_des_projected = FreeVector3D in \"world\": [0.0245794, 5.90784e-6, 0.0]\n",
      "cmp_des - cmp_des_projected = FreeVector3D in \"world\": [0.0231702, 4.22606e-6, 0.0]\n",
      "cmp_des - cmp_des_projected = FreeVector3D in \"world\": [0.0216457, 2.68836e-6, 0.0]\n",
      "cmp_des - cmp_des_projected = FreeVector3D in \"world\": [0.0199758, 1.43602e-6, 0.0]\n",
      "cmp_des - cmp_des_projected = FreeVector3D in \"world\": [0.0181449, 5.26806e-7, 0.0]\n",
      "cmp_des - cmp_des_projected = FreeVector3D in \"world\": [0.0161547, -4.87973e-8, 0.0]\n",
      "cmp_des - cmp_des_projected = FreeVector3D in \"world\": [0.0140171, -3.41359e-7, 0.0]\n",
      "cmp_des - cmp_des_projected = FreeVector3D in \"world\": [0.0117539, -4.19048e-7, 0.0]\n",
      "cmp_des - cmp_des_projected = FreeVector3D in \"world\": [0.00939658, -3.8512e-7, 0.0]\n",
      "cmp_des - cmp_des_projected = FreeVector3D in \"world\": [0.00697827, -3.00835e-7, 0.0]\n",
      "cmp_des - cmp_des_projected = FreeVector3D in \"world\": [0.00453893, -1.99543e-7, 0.0]\n",
      "cmp_des - cmp_des_projected = FreeVector3D in \"world\": [0.00211893, -8.30174e-8, 0.0]\n"
     ]
    },
    {
     "name": "stdout",
     "output_type": "stream",
     "text": [
      "cmp_des - cmp_des_projected = FreeVector3D in \"world\": [0.000100405, -9.15883e-8, 0.0]\n",
      "cmp_des - cmp_des_projected = FreeVector3D in \"world\": [0.000760365, -7.06521e-7, 0.0]\n",
      "cmp_des - cmp_des_projected = FreeVector3D in \"world\": [0.00136547, -1.23384e-6, 0.0]\n",
      "cmp_des - cmp_des_projected = FreeVector3D in \"world\": [0.00193364, -1.61838e-6, 0.0]\n",
      "cmp_des - cmp_des_projected = FreeVector3D in \"world\": [0.00248215, -1.82015e-6, 0.0]\n",
      "cmp_des - cmp_des_projected = FreeVector3D in \"world\": [0.00300318, -1.49271e-6, 0.0]\n",
      "cmp_des - cmp_des_projected = FreeVector3D in \"world\": [0.00355702, -1.49499e-6, 0.0]\n",
      "cmp_des - cmp_des_projected = FreeVector3D in \"world\": [0.00412665, -1.13172e-6, 0.0]\n",
      "cmp_des - cmp_des_projected = FreeVector3D in \"world\": [0.00470709, -6.08528e-7, 0.0]\n",
      "cmp_des - cmp_des_projected = FreeVector3D in \"world\": [0.00531532, 1.34999e-9, 0.0]\n",
      "cmp_des - cmp_des_projected = FreeVector3D in \"world\": [0.00596713, 6.09662e-7, 0.0]\n",
      "cmp_des - cmp_des_projected = FreeVector3D in \"world\": [0.00665715, 1.16237e-6, 0.0]\n",
      "cmp_des - cmp_des_projected = FreeVector3D in \"world\": [0.0074006, 1.66232e-6, 0.0]\n",
      "cmp_des - cmp_des_projected = FreeVector3D in \"world\": [0.00821762, 2.15676e-6, 0.0]\n",
      "cmp_des - cmp_des_projected = FreeVector3D in \"world\": [0.00912576, 2.7252e-6, 0.0]\n",
      "cmp_des - cmp_des_projected = FreeVector3D in \"world\": [0.0101346, 3.44406e-6, 0.0]\n",
      "cmp_des - cmp_des_projected = FreeVector3D in \"world\": [0.0112423, 4.35102e-6, 0.0]\n",
      "cmp_des - cmp_des_projected = FreeVector3D in \"world\": [0.0124352, 5.41801e-6, 0.0]\n",
      "cmp_des - cmp_des_projected = FreeVector3D in \"world\": [0.0136898, 6.53947e-6, 0.0]\n",
      "cmp_des - cmp_des_projected = FreeVector3D in \"world\": [0.0149746, 7.54307e-6, 0.0]\n",
      "cmp_des - cmp_des_projected = FreeVector3D in \"world\": [0.0162596, 8.22876e-6, 0.0]\n",
      "cmp_des - cmp_des_projected = FreeVector3D in \"world\": [0.0175124, 8.41528e-6, 0.0]\n",
      "cmp_des - cmp_des_projected = FreeVector3D in \"world\": [0.0187067, 7.99236e-6, 0.0]\n",
      "cmp_des - cmp_des_projected = FreeVector3D in \"world\": [0.0198235, 6.95006e-6, 0.0]\n",
      "cmp_des - cmp_des_projected = FreeVector3D in \"world\": [0.0208509, 5.38102e-6, 0.0]\n",
      "cmp_des - cmp_des_projected = FreeVector3D in \"world\": [0.0217843, 3.45703e-6, 0.0]\n",
      "cmp_des - cmp_des_projected = FreeVector3D in \"world\": [0.0226255, 1.38993e-6, 0.0]\n",
      "cmp_des - cmp_des_projected = FreeVector3D in \"world\": [0.0233793, -6.10092e-7, 0.0]\n",
      "cmp_des - cmp_des_projected = FreeVector3D in \"world\": [0.0240581, -2.36738e-6, 0.0]\n",
      "cmp_des - cmp_des_projected = FreeVector3D in \"world\": [0.0246723, -3.75972e-6, 0.0]\n",
      "cmp_des - cmp_des_projected = FreeVector3D in \"world\": [0.0252353, -4.72154e-6, 0.0]\n",
      "cmp_des - cmp_des_projected = FreeVector3D in \"world\": [0.0257616, -5.2353e-6, 0.0]\n",
      "cmp_des - cmp_des_projected = FreeVector3D in \"world\": [0.0262668, -5.31593e-6, 0.0]\n",
      "cmp_des - cmp_des_projected = FreeVector3D in \"world\": [0.0267672, -4.99349e-6, 0.0]\n",
      "cmp_des - cmp_des_projected = FreeVector3D in \"world\": [0.0272805, -4.29845e-6, 0.0]\n",
      "cmp_des - cmp_des_projected = FreeVector3D in \"world\": [0.0278249, -3.25221e-6, 0.0]\n",
      "cmp_des - cmp_des_projected = FreeVector3D in \"world\": [0.028419, -1.86452e-6, 0.0]\n",
      "cmp_des - cmp_des_projected = FreeVector3D in \"world\": [0.0290805, -1.45305e-7, 0.0]\n",
      "cmp_des - cmp_des_projected = FreeVector3D in \"world\": [0.0298242, 1.88575e-6, 0.0]\n",
      "cmp_des - cmp_des_projected = FreeVector3D in \"world\": [0.0306613, 4.25741e-6, 0.0]\n",
      "cmp_des - cmp_des_projected = FreeVector3D in \"world\": [0.0316052, 7.03079e-6, 0.0]\n",
      "cmp_des - cmp_des_projected = FreeVector3D in \"world\": [0.0326967, 1.03174e-5, 0.0]\n",
      "cmp_des - cmp_des_projected = FreeVector3D in \"world\": [0.0339518, 1.40469e-5, 0.0]\n",
      "cmp_des - cmp_des_projected = FreeVector3D in \"world\": [0.0353511, 1.79496e-5, 0.0]\n",
      "cmp_des - cmp_des_projected = FreeVector3D in \"world\": [0.0355172, 2.08805e-5, 0.0]\n",
      "cmp_des - cmp_des_projected = FreeVector3D in \"world\": [0.0345236, 2.22507e-5, 0.0]\n",
      "cmp_des - cmp_des_projected = FreeVector3D in \"world\": [0.0334961, 2.24351e-5, 0.0]\n",
      "cmp_des - cmp_des_projected = FreeVector3D in \"world\": [0.0323624, 2.13781e-5, 0.0]\n",
      "cmp_des - cmp_des_projected = FreeVector3D in \"world\": [0.0310502, 1.92213e-5, 0.0]\n",
      "cmp_des - cmp_des_projected = FreeVector3D in \"world\": [0.0295011, 1.62769e-5, 0.0]\n",
      "cmp_des - cmp_des_projected = FreeVector3D in \"world\": [0.0276879, 1.29516e-5, 0.0]\n",
      "cmp_des - cmp_des_projected = FreeVector3D in \"world\": [0.0256221, 9.65616e-6, 0.0]\n",
      "cmp_des - cmp_des_projected = FreeVector3D in \"world\": [0.0233381, 6.70524e-6, 0.0]\n",
      "cmp_des - cmp_des_projected = FreeVector3D in \"world\": [0.0208893, 4.28276e-6, 0.0]\n",
      "cmp_des - cmp_des_projected = FreeVector3D in \"world\": [0.0183393, 2.46214e-6, 0.0]\n",
      "cmp_des - cmp_des_projected = FreeVector3D in \"world\": [0.0157529, 1.21719e-6, 0.0]\n",
      "cmp_des - cmp_des_projected = FreeVector3D in \"world\": [0.0131969, 4.31364e-7, 0.0]\n",
      "cmp_des - cmp_des_projected = FreeVector3D in \"world\": [0.010729, -1.95782e-8, 0.0]\n",
      "cmp_des - cmp_des_projected = FreeVector3D in \"world\": [0.00840157, -2.07584e-7, 0.0]\n",
      "cmp_des - cmp_des_projected = FreeVector3D in \"world\": [0.00625499, -1.64967e-7, 0.0]\n",
      "cmp_des - cmp_des_projected = FreeVector3D in \"world\": [0.00431723, -3.23529e-7, 0.0]\n",
      "cmp_des - cmp_des_projected = FreeVector3D in \"world\": [0.00259002, 2.01849e-7, 0.0]\n",
      "cmp_des - cmp_des_projected = FreeVector3D in \"world\": [0.0010521, 1.65384e-7, 0.0]\n",
      "cmp_des - cmp_des_projected = FreeVector3D in \"world\": [0.000272538, -6.52989e-7, 0.0]\n",
      "cmp_des - cmp_des_projected = FreeVector3D in \"world\": [0.000725635, -1.71806e-6, 0.0]\n",
      "cmp_des - cmp_des_projected = FreeVector3D in \"world\": [0.00115937, -2.55893e-6, 0.0]\n",
      "cmp_des - cmp_des_projected = FreeVector3D in \"world\": [0.00158667, -3.05574e-6, 0.0]\n",
      "cmp_des - cmp_des_projected = FreeVector3D in \"world\": [0.00199575, -3.10688e-6, 0.0]\n",
      "cmp_des - cmp_des_projected = FreeVector3D in \"world\": [0.00240724, -2.74432e-6, 0.0]\n",
      "cmp_des - cmp_des_projected = FreeVector3D in \"world\": [0.00284856, -2.03813e-6, 0.0]\n",
      "cmp_des - cmp_des_projected = FreeVector3D in \"world\": [0.0033498, -1.06208e-6, 0.0]\n",
      "cmp_des - cmp_des_projected = FreeVector3D in \"world\": [0.0039393, 1.26534e-7, 0.0]\n",
      "cmp_des - cmp_des_projected = FreeVector3D in \"world\": [0.00453544, 3.98065e-6, 0.0]\n",
      "cmp_des - cmp_des_projected = FreeVector3D in \"world\": [0.00534499, 6.16028e-6, 0.0]\n",
      "cmp_des - cmp_des_projected = FreeVector3D in \"world\": [0.0062396, 8.49721e-6, 0.0]\n",
      "cmp_des - cmp_des_projected = FreeVector3D in \"world\": [0.00720462, 1.1143e-5, 0.0]\n",
      "cmp_des - cmp_des_projected = FreeVector3D in \"world\": [0.00825008, 1.43389e-5, 0.0]\n",
      "cmp_des - cmp_des_projected = FreeVector3D in \"world\": [0.00939001, 1.8357e-5, 0.0]\n",
      "cmp_des - cmp_des_projected = FreeVector3D in \"world\": [0.0106345, 2.33113e-5, 0.0]\n",
      "cmp_des - cmp_des_projected = FreeVector3D in \"world\": [0.0119813, 2.9017e-5, 0.0]\n",
      "cmp_des - cmp_des_projected = FreeVector3D in \"world\": [0.0134119, 3.49208e-5, 0.0]\n",
      "cmp_des - cmp_des_projected = FreeVector3D in \"world\": [0.0148902, 4.0121e-5, 0.0]\n",
      "cmp_des - cmp_des_projected = FreeVector3D in \"world\": [0.0163728, 4.36553e-5, 0.0]\n",
      "cmp_des - cmp_des_projected = FreeVector3D in \"world\": [0.0178076, 4.46034e-5, 0.0]\n",
      "cmp_des - cmp_des_projected = FreeVector3D in \"world\": [0.0191474, 4.24779e-5, 0.0]\n",
      "cmp_des - cmp_des_projected = FreeVector3D in \"world\": [0.0203545, 3.73482e-5, 0.0]\n",
      "cmp_des - cmp_des_projected = FreeVector3D in \"world\": [0.0214021, 2.97907e-5, 0.0]\n",
      "cmp_des - cmp_des_projected = FreeVector3D in \"world\": [0.0222874, 2.07896e-5, 0.0]\n",
      "cmp_des - cmp_des_projected = FreeVector3D in \"world\": [0.0230216, 1.15093e-5, 0.0]\n",
      "cmp_des - cmp_des_projected = FreeVector3D in \"world\": [0.0236192, 2.99395e-6, 0.0]\n",
      "cmp_des - cmp_des_projected = FreeVector3D in \"world\": [0.0241048, -3.84483e-6, 0.0]\n",
      "cmp_des - cmp_des_projected = FreeVector3D in \"world\": [0.0244911, -1.85471e-5, 0.0]\n",
      "cmp_des - cmp_des_projected = FreeVector3D in \"world\": [0.0248363, -2.15189e-5, 0.0]\n",
      "cmp_des - cmp_des_projected = FreeVector3D in \"world\": [0.0251666, -2.27567e-5, 0.0]\n",
      "cmp_des - cmp_des_projected = FreeVector3D in \"world\": [0.0255052, -2.25181e-5, 0.0]\n",
      "cmp_des - cmp_des_projected = FreeVector3D in \"world\": [0.0258758, -1.65508e-5, 0.0]\n",
      "cmp_des - cmp_des_projected = FreeVector3D in \"world\": [0.0262974, -9.77485e-6, 0.0]\n",
      "cmp_des - cmp_des_projected = FreeVector3D in \"world\": [0.0267887, -6.47705e-6, 0.0]\n",
      "cmp_des - cmp_des_projected = FreeVector3D in \"world\": [0.0273497, -1.73286e-6, 0.0]\n",
      "cmp_des - cmp_des_projected = FreeVector3D in \"world\": [0.0280165, 4.0761e-6, 0.0]\n",
      "cmp_des - cmp_des_projected = FreeVector3D in \"world\": [0.0288013, 1.12617e-5, 0.0]\n",
      "cmp_des - cmp_des_projected = FreeVector3D in \"world\": [0.0297174, 1.99751e-5, 0.0]\n",
      "cmp_des - cmp_des_projected = FreeVector3D in \"world\": [0.0307825, 3.02246e-5, 0.0]\n",
      "cmp_des - cmp_des_projected = FreeVector3D in \"world\": [0.0320486, 4.20986e-5, 0.0]\n",
      "cmp_des - cmp_des_projected = FreeVector3D in \"world\": [0.0335415, 5.53984e-5, 0.0]\n",
      "cmp_des - cmp_des_projected = FreeVector3D in \"world\": [0.0352389, 6.92723e-5, 0.0]\n",
      "cmp_des - cmp_des_projected = FreeVector3D in \"world\": [0.0370784, 8.23811e-5, 0.0]\n",
      "cmp_des - cmp_des_projected = FreeVector3D in \"world\": [0.0388907, 9.28406e-5, 0.0]\n",
      "cmp_des - cmp_des_projected = FreeVector3D in \"world\": [0.0381898, 9.30094e-5, 0.0]\n",
      "cmp_des - cmp_des_projected = FreeVector3D in \"world\": [0.0372964, 8.79869e-5, 0.0]\n",
      "cmp_des - cmp_des_projected = FreeVector3D in \"world\": [0.0361206, 7.84512e-5, 0.0]\n",
      "cmp_des - cmp_des_projected = FreeVector3D in \"world\": [0.0346025, 6.59045e-5, 0.0]\n",
      "cmp_des - cmp_des_projected = FreeVector3D in \"world\": [0.0327167, 5.22381e-5, 0.0]\n"
     ]
    },
    {
     "name": "stdout",
     "output_type": "stream",
     "text": [
      "cmp_des - cmp_des_projected = FreeVector3D in \"world\": [0.0305306, 3.87814e-5, 0.0]\n",
      "cmp_des - cmp_des_projected = FreeVector3D in \"world\": [0.0280773, 2.59654e-5, 0.0]\n",
      "cmp_des - cmp_des_projected = FreeVector3D in \"world\": [0.0253935, 1.45971e-5, 0.0]\n",
      "cmp_des - cmp_des_projected = FreeVector3D in \"world\": [0.0225496, 5.52398e-6, 0.0]\n",
      "cmp_des - cmp_des_projected = FreeVector3D in \"world\": [0.0196356, -6.57728e-7, 0.0]\n",
      "cmp_des - cmp_des_projected = FreeVector3D in \"world\": [0.0167649, -3.87991e-6, 0.0]\n",
      "cmp_des - cmp_des_projected = FreeVector3D in \"world\": [0.0140797, -4.8269e-6, 0.0]\n",
      "cmp_des - cmp_des_projected = FreeVector3D in \"world\": [0.0116711, -5.0337e-6, 0.0]\n",
      "cmp_des - cmp_des_projected = FreeVector3D in \"world\": [0.00957884, -3.80674e-6, 0.0]\n",
      "cmp_des - cmp_des_projected = FreeVector3D in \"world\": [0.00780742, -1.75414e-6, 0.0]\n",
      "cmp_des - cmp_des_projected = FreeVector3D in \"world\": [0.00633386, -2.10478e-7, 0.0]\n",
      "cmp_des - cmp_des_projected = FreeVector3D in \"world\": [0.00510906, 1.05255e-6, 0.0]\n",
      "cmp_des - cmp_des_projected = FreeVector3D in \"world\": [0.00406293, 1.89589e-6, 0.0]\n",
      "cmp_des - cmp_des_projected = FreeVector3D in \"world\": [0.00310692, 2.224e-6, 0.0]\n",
      "cmp_des - cmp_des_projected = FreeVector3D in \"world\": [0.00213963, 1.97774e-6, 0.0]\n",
      "cmp_des - cmp_des_projected = FreeVector3D in \"world\": [0.0010552, 1.13468e-6, 0.0]\n",
      " 32.470570 seconds (36.20 M allocations: 2.218 GiB, 6.59% gc time)\n"
     ]
    },
    {
     "data": {
      "text/plain": [
       "32.316666666669754"
      ]
     },
     "execution_count": 60,
     "metadata": {},
     "output_type": "execute_result"
    }
   ],
   "source": [
    "# simulate\n",
    "@time sol = solve(problem, Tsit5(), abs_tol = 1e-8, dt = 1e-6);\n",
    "last(sol.t)"
   ]
  },
  {
   "cell_type": "code",
   "execution_count": 63,
   "metadata": {},
   "outputs": [],
   "source": [
    "setanimation!(mvis, sol)"
   ]
  },
  {
   "cell_type": "code",
   "execution_count": 62,
   "metadata": {},
   "outputs": [],
   "source": [
    "# using BenchmarkTools\n",
    "# AtlasRobot.setnominal!(state)\n",
    "# τ = similar(velocity(state));\n",
    "# benchresult = @benchmark $controller($τ, 0.0, $state)\n",
    "# @test benchresult.allocs == 0\n",
    "# benchresult"
   ]
  },
  {
   "cell_type": "code",
   "execution_count": null,
   "metadata": {},
   "outputs": [],
   "source": []
  }
 ],
 "metadata": {
  "@webio": {
   "lastCommId": "cd46b0686b76430e8477e4c61b3996d8",
   "lastKernelId": "de30f65f-fb35-405b-9a32-602599cfe442"
  },
  "kernelspec": {
   "display_name": "Julia 1.0.3",
   "language": "julia",
   "name": "julia-1.0"
  },
  "language_info": {
   "file_extension": ".jl",
   "mimetype": "application/julia",
   "name": "julia",
   "version": "1.0.3"
  }
 },
 "nbformat": 4,
 "nbformat_minor": 2
}
