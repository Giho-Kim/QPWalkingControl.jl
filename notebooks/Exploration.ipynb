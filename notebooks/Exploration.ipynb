{
 "cells": [
  {
   "cell_type": "code",
   "execution_count": null,
   "metadata": {},
   "outputs": [],
   "source": [
    "using Pkg\n",
    "Pkg.activate(joinpath(@__DIR__, \"..\"))"
   ]
  },
  {
   "cell_type": "code",
   "execution_count": null,
   "metadata": {},
   "outputs": [],
   "source": [
    "using LinearAlgebra\n",
    "using QPControl\n",
    "using QPControl.Trajectories\n",
    "using RigidBodyDynamics\n",
    "using RigidBodyDynamics.PDControl\n",
    "using RigidBodyDynamics.Contact\n",
    "using StaticArrays\n",
    "using AtlasRobot\n",
    "using Test\n",
    "using RigidBodySim\n",
    "using MathOptInterface\n",
    "using OSQP.MathOptInterfaceOSQP: OSQPSettings\n",
    "const MOI = MathOptInterface\n",
    "using OSQP\n",
    "using PushRecovery\n",
    "using PlanarConvexHulls\n",
    "BLAS.set_num_threads(1)"
   ]
  },
  {
   "cell_type": "code",
   "execution_count": null,
   "metadata": {},
   "outputs": [],
   "source": [
    "@time AtlasRobot.mechanism(add_flat_ground=true);"
   ]
  },
  {
   "cell_type": "code",
   "execution_count": null,
   "metadata": {},
   "outputs": [],
   "source": [
    "@time mechanism = AtlasRobot.mechanism(add_flat_ground=true);"
   ]
  },
  {
   "cell_type": "code",
   "execution_count": null,
   "metadata": {},
   "outputs": [],
   "source": [
    "# static contact information\n",
    "soleframes = add_sole_frames!(mechanism)\n",
    "foot_polygons = make_foot_polygons(mechanism, soleframes; num_extreme_points=4);"
   ]
  },
  {
   "cell_type": "code",
   "execution_count": null,
   "metadata": {},
   "outputs": [],
   "source": [
    "# body lookup\n",
    "feet = findbody.(Ref(mechanism), [\"l_foot\", \"r_foot\"])\n",
    "pelvis = findbody(mechanism, \"pelvis\")"
   ]
  },
  {
   "cell_type": "code",
   "execution_count": null,
   "metadata": {},
   "outputs": [],
   "source": [
    "# create low level controller\n",
    "lowlevel = let\n",
    "    optimizer = OSQP.Optimizer()\n",
    "    MOI.set(optimizer, OSQPSettings.Verbose(), false)\n",
    "    MOI.set(optimizer, OSQPSettings.EpsAbs(), 1e-5)\n",
    "    MOI.set(optimizer, OSQPSettings.EpsRel(), 1e-5)\n",
    "    MOI.set(optimizer, OSQPSettings.MaxIter(), 5000)\n",
    "    MOI.set(optimizer, OSQPSettings.AdaptiveRhoInterval(), 25) # required for deterministic behavior\n",
    "    lowlevel = MomentumBasedController{4}(mechanism, optimizer,\n",
    "        floatingjoint = findjoint(mechanism, \"pelvis_to_world\"));\n",
    "    for body in bodies(mechanism)\n",
    "        for point in RigidBodyDynamics.contact_points(body)\n",
    "            position = location(point)\n",
    "            normal = FreeVector3D(default_frame(body), 0.0, 0.0, 1.0)\n",
    "            μ = point.model.friction.μ\n",
    "            contact = addcontact!(lowlevel, body, position, normal, μ)\n",
    "            contact.maxnormalforce[] = 1e6 # TODO\n",
    "            contact.weight[] = 1e-3\n",
    "        end\n",
    "    end\n",
    "    lowlevel\n",
    "end;"
   ]
  },
  {
   "cell_type": "code",
   "execution_count": null,
   "metadata": {},
   "outputs": [],
   "source": [
    "nominalstate = MechanismState(mechanism)\n",
    "AtlasRobot.setnominal!(nominalstate)"
   ]
  },
  {
   "cell_type": "code",
   "execution_count": null,
   "metadata": {},
   "outputs": [],
   "source": [
    "# ICP stuff\n",
    "zdes = center_of_mass(nominalstate).v[3] - 0.05\n",
    "gz = norm(mechanism.gravitational_acceleration)\n",
    "ω = sqrt(gz / zdes)\n",
    "icptraj = let\n",
    "    optimizer = OSQP.Optimizer()\n",
    "    MOI.set(optimizer, OSQPSettings.Verbose(), false)\n",
    "    MOI.set(optimizer, OSQPSettings.EpsAbs(), 1e-6)\n",
    "    MOI.set(optimizer, OSQPSettings.EpsRel(), 1e-8)\n",
    "    MOI.set(optimizer, OSQPSettings.MaxIter(), 10000)\n",
    "    MOI.set(optimizer, OSQPSettings.AdaptiveRhoInterval(), 25) # required for deterministic behavior\n",
    "    max_polygon_sides = 8 # TODO\n",
    "    num_segments = 1\n",
    "    ICPTrajectoryGenerator{Float64, max_polygon_sides}(optimizer, num_segments, ω)\n",
    "end\n",
    "linear_momentum_controller = ICPController(mechanism, icptraj, zdes);"
   ]
  },
  {
   "cell_type": "code",
   "execution_count": null,
   "metadata": {},
   "outputs": [],
   "source": [
    "# create high level controller\n",
    "controller = PushRecoveryController(lowlevel, feet, pelvis, nominalstate, linear_momentum_controller);"
   ]
  },
  {
   "cell_type": "code",
   "execution_count": null,
   "metadata": {},
   "outputs": [],
   "source": [
    "# initialize ICP trajectory\n",
    "gz = norm(mechanism.gravitational_acceleration)\n",
    "transfer_weight!(icptraj, nominalstate, foot_polygons, BodyID(first(feet)); Δt=5.0);"
   ]
  },
  {
   "cell_type": "code",
   "execution_count": null,
   "metadata": {},
   "outputs": [],
   "source": [
    "# create visualizer\n",
    "using MeshCat\n",
    "using MeshCatMechanisms\n",
    "using MechanismGeometries\n",
    "\n",
    "if !(@isdefined gui) || !any(isopen, MeshCatMechanisms.visualizer(gui.visualizer).core.scope.pool.connections)\n",
    "    pushapplier = PushApplier(mechanism, Point3D(default_frame(pelvis), 0.0, 0.0, 0.0))\n",
    "    link_colors = Dict(map(foot -> string(foot) => RGBA(0.7f0, 0.7f0, 0.7f0, 0.3f0), feet))\n",
    "    visuals = URDFVisuals(AtlasRobot.urdfpath(); package_path=[AtlasRobot.packagepath()], link_colors=link_colors)\n",
    "    vis = Visualizer()\n",
    "    mvis = MechanismVisualizer(mechanism, visuals, vis)\n",
    "    pvis = PushRecoveryVisualizer(mvis)\n",
    "    gui = GUI(pvis, usernode=Widget(pushapplier, max_force=100.0, max_Δt=0.3))\n",
    "    open(gui)\n",
    "    copyto!(gui.visualizer, nominalstate)\n",
    "end"
   ]
  },
  {
   "cell_type": "code",
   "execution_count": null,
   "metadata": {},
   "outputs": [],
   "source": [
    "# create ODEProblem\n",
    "state = MechanismState(mechanism)\n",
    "AtlasRobot.setnominal!(state)\n",
    "Δt = 1 / 300\n",
    "pcontroller = PeriodicController(similar(velocity(state)), Δt, controller)\n",
    "# TODO: add damping\n",
    "dynamics = Dynamics(mechanism, pcontroller)\n",
    "# dynamics = Dynamics(mechanism, SumController(similar(velocity(state)), (pcontroller, pushapplier)))\n",
    "callback = CallbackSet(RealtimeRateLimiter(poll_interval=pi / 100), CallbackSet(gui))\n",
    "problem = ODEProblem(dynamics, state, (0., 10.0); callback=callback)"
   ]
  },
  {
   "cell_type": "code",
   "execution_count": null,
   "metadata": {},
   "outputs": [],
   "source": [
    "# simulate\n",
    "@time sol = solve(problem, Tsit5(), abs_tol = 1e-8, dt = 1e-6);\n",
    "last(sol.t)"
   ]
  },
  {
   "cell_type": "code",
   "execution_count": null,
   "metadata": {},
   "outputs": [],
   "source": [
    "# using BenchmarkTools\n",
    "# AtlasRobot.setnominal!(state)\n",
    "# τ = similar(velocity(state));\n",
    "# benchresult = @benchmark $controller($τ, 0.0, $state)\n",
    "# @test benchresult.allocs == 0\n",
    "# benchresult"
   ]
  }
 ],
 "metadata": {
  "@webio": {
   "lastCommId": "10c3f2c1f565438585c86ed88d7e1e1f",
   "lastKernelId": "4780b098-b561-438c-bb52-939d9f7e6de1"
  },
  "kernelspec": {
   "display_name": "Julia 1.1.0",
   "language": "julia",
   "name": "julia-1.1"
  },
  "language_info": {
   "file_extension": ".jl",
   "mimetype": "application/julia",
   "name": "julia",
   "version": "1.1.0"
  }
 },
 "nbformat": 4,
 "nbformat_minor": 2
}
