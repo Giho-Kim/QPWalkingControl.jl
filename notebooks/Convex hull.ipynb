{
 "cells": [
  {
   "cell_type": "code",
   "execution_count": 2,
   "metadata": {},
   "outputs": [
    {
     "data": {
      "text/plain": [
       "\"/home/twan/.julia/dev/PushRecovery/Project.toml\""
      ]
     },
     "execution_count": 2,
     "metadata": {},
     "output_type": "execute_result"
    }
   ],
   "source": [
    "using Pkg\n",
    "Pkg.activate(joinpath(@__DIR__, \"..\"))"
   ]
  },
  {
   "cell_type": "code",
   "execution_count": 2,
   "metadata": {},
   "outputs": [
    {
     "name": "stderr",
     "output_type": "stream",
     "text": [
      "┌ Info: Precompiling PushRecovery [e5d7e63e-020d-11e9-1e2d-c1b17e981caa]\n",
      "└ @ Base loading.jl:1189\n"
     ]
    },
    {
     "data": {
      "text/html": [
       "    <script class='js-collapse-script'>\n",
       "        var curMatch =\n",
       "            window.location.href\n",
       "            .match(/(.*?)\\/notebooks\\/.*\\.ipynb/);\n",
       "\n",
       "        curMatch = curMatch ||\n",
       "            window.location.href\n",
       "            .match(/(.*?)\\/apps\\/.*\\.ipynb/);\n",
       "\n",
       "        if ( curMatch ) {\n",
       "            $('head').append('<base href=\"' + curMatch[1] + '/\">');\n",
       "        }\n",
       "    </script>\n"
      ],
      "text/plain": [
       "HTML{String}(\"    <script class='js-collapse-script'>\\n        var curMatch =\\n            window.location.href\\n            .match(/(.*?)\\\\/notebooks\\\\/.*\\\\.ipynb/);\\n\\n        curMatch = curMatch ||\\n            window.location.href\\n            .match(/(.*?)\\\\/apps\\\\/.*\\\\.ipynb/);\\n\\n        if ( curMatch ) {\\n            \\$('head').append('<base href=\\\"' + curMatch[1] + '/\\\">');\\n        }\\n    </script>\\n\")"
      ]
     },
     "metadata": {},
     "output_type": "display_data"
    },
    {
     "data": {
      "text/html": [
       "<script class='js-collapse-script' src='/assetserver/29d4a42ceb6d03d53ba5feb8981c0eb5bceb5139-assets/webio/dist/bundle.js'></script>"
      ],
      "text/plain": [
       "HTML{String}(\"<script class='js-collapse-script' src='/assetserver/29d4a42ceb6d03d53ba5feb8981c0eb5bceb5139-assets/webio/dist/bundle.js'></script>\")"
      ]
     },
     "metadata": {},
     "output_type": "display_data"
    },
    {
     "data": {
      "text/html": [
       "<script class='js-collapse-script' src='/assetserver/29d4a42ceb6d03d53ba5feb8981c0eb5bceb5139-assets/providers/ijulia_setup.js'></script>"
      ],
      "text/plain": [
       "HTML{String}(\"<script class='js-collapse-script' src='/assetserver/29d4a42ceb6d03d53ba5feb8981c0eb5bceb5139-assets/providers/ijulia_setup.js'></script>\")"
      ]
     },
     "metadata": {},
     "output_type": "display_data"
    },
    {
     "data": {
      "text/html": [
       "  <script class='js-collapse-script'>\n",
       "    $('.js-collapse-script').parent('.output_subarea').css('padding', '0');\n",
       "  </script>\n"
      ],
      "text/plain": [
       "HTML{String}(\"  <script class='js-collapse-script'>\\n    \\$('.js-collapse-script').parent('.output_subarea').css('padding', '0');\\n  </script>\\n\")"
      ]
     },
     "metadata": {},
     "output_type": "display_data"
    }
   ],
   "source": [
    "using PushRecovery\n",
    "using PushRecovery.ConvexHull\n",
    "using StaticArrays"
   ]
  },
  {
   "cell_type": "code",
   "execution_count": 3,
   "metadata": {},
   "outputs": [],
   "source": [
    "using MathOptInterface\n",
    "const MOI = MathOptInterface\n",
    "using OSQP\n",
    "using OSQP.MathOptInterfaceOSQP\n",
    "\n",
    "atol_distance = 1e-3\n",
    "optimizer = OSQP.Optimizer()\n",
    "MOI.set(optimizer, OSQPSettings.Verbose(), false)\n",
    "MOI.set(optimizer, OSQPSettings.EpsAbs(), atol_distance^2)\n",
    "problem = ConvexHullProblem{2, 10, Float64}(optimizer);"
   ]
  },
  {
   "cell_type": "code",
   "execution_count": 4,
   "metadata": {},
   "outputs": [],
   "source": [
    "using BenchmarkTools"
   ]
  },
  {
   "cell_type": "code",
   "execution_count": 6,
   "metadata": {},
   "outputs": [
    {
     "name": "stdout",
     "output_type": "stream",
     "text": [
      "is_point_inside(problem; atol=atol_distance) = false\n",
      "distance_to_closest_point(problem) = 0.03486977218524078\n",
      "closest_point(problem) = [0.0217751, 0.00336563]\n",
      "\n",
      "is_point_inside(problem; atol=atol_distance) = false\n",
      "distance_to_closest_point(problem) = 0.11519197245072557\n",
      "closest_point(problem) = [0.11119, 0.370043]\n",
      "\n",
      "is_point_inside(problem; atol=atol_distance) = false\n",
      "distance_to_closest_point(problem) = 0.6307925730210995\n",
      "closest_point(problem) = [0.242595, 0.367315]\n",
      "\n",
      "is_point_inside(problem; atol=atol_distance) = false\n",
      "distance_to_closest_point(problem) = 0.6752080941431933\n",
      "closest_point(problem) = [0.655103, 0.254993]\n",
      "\n",
      "is_point_inside(problem; atol=atol_distance) = false\n",
      "distance_to_closest_point(problem) = 0.05684085081661188\n",
      "closest_point(problem) = [0.810345, 0.662103]\n",
      "\n",
      "is_point_inside(problem; atol=atol_distance) = false\n",
      "distance_to_closest_point(problem) = 0.3047256579999386\n",
      "closest_point(problem) = [0.689921, 0.706642]\n",
      "\n",
      "is_point_inside(problem; atol=atol_distance) = false\n",
      "distance_to_closest_point(problem) = 0.1373954897298276\n",
      "closest_point(problem) = [0.180966, 0.533842]\n",
      "\n",
      "is_point_inside(problem; atol=atol_distance) = false\n",
      "distance_to_closest_point(problem) = 0.0011722199782834778\n",
      "closest_point(problem) = [0.468804, 0.607776]\n",
      "\n",
      "is_point_inside(problem; atol=atol_distance) = false\n",
      "distance_to_closest_point(problem) = 0.43644187813463187\n",
      "closest_point(problem) = [0.435535, 0.631448]\n",
      "\n",
      "is_point_inside(problem; atol=atol_distance) = true\n",
      "distance_to_closest_point(problem) = 6.853825497535749e-7\n",
      "closest_point(problem) = [0.157445, 0.227706]\n",
      "\n"
     ]
    }
   ],
   "source": [
    "for i = 1 : 10\n",
    "    set_point!(problem, rand(SVector{2, Float64}))\n",
    "    set_vertices!(problem, [rand(SVector{2, Float64}) for i = 1 : 10])\n",
    "    solve!(problem)\n",
    "    @show is_point_inside(problem; atol=atol_distance)\n",
    "    @show distance_to_closest_point(problem)\n",
    "    @show closest_point(problem)\n",
    "    println()\n",
    "end"
   ]
  },
  {
   "cell_type": "code",
   "execution_count": 7,
   "metadata": {},
   "outputs": [
    {
     "name": "stdout",
     "output_type": "stream",
     "text": [
      "  22.644 μs (0 allocations: 0 bytes)\n"
     ]
    }
   ],
   "source": [
    "@btime solve!($problem) setup = begin\n",
    "    set_point!($problem, rand(SVector{2, Float64}))\n",
    "    set_vertices!($problem, [rand(SVector{2, Float64}) for i = 1 : 10])\n",
    "end"
   ]
  },
  {
   "cell_type": "code",
   "execution_count": 10,
   "metadata": {},
   "outputs": [
    {
     "name": "stdout",
     "output_type": "stream",
     "text": [
      "  1.768 ns (0 allocations: 0 bytes)\n"
     ]
    },
    {
     "data": {
      "text/plain": [
       "2-element MArray{Tuple{2},Float64,1,2}:\n",
       " 0.0\n",
       " 0.0"
      ]
     },
     "execution_count": 10,
     "metadata": {},
     "output_type": "execute_result"
    }
   ],
   "source": [
    "vertices = [rand(SVector{2, Float64}) for i = 1 : 10]\n",
    "@btime set_point!($problem, zero(SVector{2}))"
   ]
  },
  {
   "cell_type": "code",
   "execution_count": 17,
   "metadata": {},
   "outputs": [
    {
     "data": {
      "text/plain": [
       "10-element SizedArray{Tuple{10},SArray{Tuple{2},Float64,1,2},1,1}:\n",
       " [0.609003, 0.302246]\n",
       " [0.224927, 0.803468]\n",
       " [0.922636, 0.808817]\n",
       " [0.351722, 0.314121]\n",
       " [0.425197, 0.133761]\n",
       " [0.318272, 0.596267]\n",
       " [0.125196, 0.790781]\n",
       " [0.637986, 0.370337]\n",
       " [0.768763, 0.989335]\n",
       " [0.918016, 0.762583]"
      ]
     },
     "execution_count": 17,
     "metadata": {},
     "output_type": "execute_result"
    }
   ],
   "source": [
    "SizedVector{10}(vertices)"
   ]
  },
  {
   "cell_type": "code",
   "execution_count": 14,
   "metadata": {},
   "outputs": [
    {
     "data": {
      "text/plain": [
       "MathOptInterface"
      ]
     },
     "execution_count": 14,
     "metadata": {},
     "output_type": "execute_result"
    }
   ],
   "source": []
  },
  {
   "cell_type": "code",
   "execution_count": 37,
   "metadata": {},
   "outputs": [
    {
     "name": "stdout",
     "output_type": "stream",
     "text": [
      "\u001b[37m\u001b[1mTest Summary:     | \u001b[22m\u001b[39m\u001b[32m\u001b[1mPass  \u001b[22m\u001b[39m\u001b[36m\u001b[1mTotal\u001b[22m\u001b[39m\n",
      "ConvexHull basics | \u001b[32m   6  \u001b[39m\u001b[36m    6\u001b[39m\n",
      "\u001b[37m\u001b[1mTest Summary:           | \u001b[22m\u001b[39m"
     ]
    },
    {
     "name": "stderr",
     "output_type": "stream",
     "text": [
      "WARNING: replacing module ConvexHullTest.\n"
     ]
    },
    {
     "name": "stdout",
     "output_type": "stream",
     "text": [
      "\u001b[32m\u001b[1m Pass  \u001b[22m\u001b[39m\u001b[36m\u001b[1mTotal\u001b[22m\u001b[39m\n",
      "ConvexHull point inside | \u001b[32m10000  \u001b[39m\u001b[36m10000\u001b[39m\n",
      "\u001b[37m\u001b[1mTest Summary:            | \u001b[22m\u001b[39m\u001b[32m\u001b[1m Pass  \u001b[22m\u001b[39m\u001b[36m\u001b[1mTotal\u001b[22m\u001b[39m\n",
      "ConvexHull point outside | \u001b[32m40000  \u001b[39m\u001b[36m40000\u001b[39m\n",
      "  24.454 μs (0 allocations: 0 bytes)\n",
      "\u001b[37m\u001b[1mTest Summary:          | \u001b[22m\u001b[39m\u001b[32m\u001b[1mPass  \u001b[22m\u001b[39m\u001b[36m\u001b[1mTotal\u001b[22m\u001b[39m\n",
      "ConvexHull allocations | \u001b[32m   1  \u001b[39m\u001b[36m    1\u001b[39m\n"
     ]
    },
    {
     "data": {
      "text/plain": [
       "Main.ConvexHullTest"
      ]
     },
     "execution_count": 37,
     "metadata": {},
     "output_type": "execute_result"
    }
   ],
   "source": [
    "module ConvexHullTest\n",
    "\n",
    "using PushRecovery.ConvexHull\n",
    "using StaticArrays\n",
    "using MathOptInterface\n",
    "using OSQP\n",
    "using OSQP.MathOptInterfaceOSQP\n",
    "using Test\n",
    "using Random\n",
    "using LinearAlgebra\n",
    "using BenchmarkTools\n",
    "\n",
    "const MOI = MathOptInterface\n",
    "\n",
    "function optimizer(atol_distance)\n",
    "    optimizer = OSQP.Optimizer()\n",
    "    MOI.set(optimizer, OSQPSettings.Verbose(), false)\n",
    "    MOI.set(optimizer, OSQPSettings.EpsAbs(), atol_distance^2)\n",
    "    MOI.set(optimizer, OSQPSettings.EpsRel(), 1e-8)\n",
    "#     MOI.set(optimizer, OSQPSettings.Polish(), true)\n",
    "#     MOI.set(optimizer, OSQPSettings.AdaptiveRhoInterval(), 25) # required for deterministic behavior\n",
    "    optimizer\n",
    "end\n",
    "\n",
    "@testset \"ConvexHull basics\" begin\n",
    "    atol_distance = 1e-3\n",
    "    problem = ConvexHullProblem{2, 3, Float64}(optimizer(atol_distance))\n",
    "    set_vertices!(problem, [SVector(0., 0.), SVector(2., 0.), SVector(0., 3.)])\n",
    "\n",
    "    p = SVector(0.5, 0.5)\n",
    "    set_point!(problem, p)\n",
    "    solve!(problem)\n",
    "    @test is_point_inside(problem; atol=atol_distance)\n",
    "    @test distance_to_closest_point(problem) ≈ 0 atol=atol_distance\n",
    "    @test closest_point(problem) ≈ p atol=atol_distance\n",
    "\n",
    "    p = SVector(-0.5, -0.5)\n",
    "    set_point!(problem, p)\n",
    "    solve!(problem)\n",
    "    @test !is_point_inside(problem; atol=atol_distance)\n",
    "    @test distance_to_closest_point(problem) ≈ sqrt(0.5) atol=atol_distance\n",
    "    @test closest_point(problem) ≈ SVector(0.0, 0.0) atol=atol_distance\n",
    "end\n",
    "\n",
    "@testset \"ConvexHull point inside\" begin\n",
    "    atol_distance = 1e-3\n",
    "    N = 2\n",
    "    M = 10\n",
    "    problem = ConvexHullProblem{N, M, Float64}(optimizer(atol_distance))\n",
    "    Random.seed!(1)\n",
    "    for i = 1 : 10000\n",
    "        vertices = [rand(SVector{N}) for i = 1 : M]\n",
    "        set_vertices!(problem, vertices)\n",
    "        weights = rand(M)\n",
    "        weights ./= sum(weights)\n",
    "        point = sum(weights .* vertices)\n",
    "        set_point!(problem, point)\n",
    "        solve!(problem)\n",
    "        @test is_point_inside(problem; atol=atol_distance)\n",
    "    end\n",
    "end\n",
    "\n",
    "@testset \"ConvexHull point outside\" begin\n",
    "    atol_distance = 1e-3\n",
    "    N = 2\n",
    "    M = 10\n",
    "    problem = ConvexHullProblem{N, M, Float64}(optimizer(atol_distance))\n",
    "    Random.seed!(1)\n",
    "    for i = 1 : 10000\n",
    "        set_vertices!(problem, [(1 - atol_distance) * normalize(randn(SVector{N})) for i = 1 : M])\n",
    "        point = normalize(randn(SVector{N}))\n",
    "        set_point!(problem, point)\n",
    "        solve!(problem)\n",
    "        @test !is_point_inside(problem; atol=atol_distance)\n",
    "        closest = closest_point(problem)\n",
    "        @test norm(point - closest) ≈ distance_to_closest_point(problem) atol=atol_distance\n",
    "        \n",
    "        set_point!(problem, closest)\n",
    "        solve!(problem)\n",
    "        @test is_point_inside(problem; atol=atol_distance)\n",
    "        @test distance_to_closest_point(problem) ≈ 0 atol=atol_distance\n",
    "    end\n",
    "end\n",
    "\n",
    "@testset \"ConvexHull allocations\" begin\n",
    "    atol_distance = 1e-3\n",
    "    N = 2\n",
    "    M = 10\n",
    "    problem = ConvexHullProblem{N, M, Float64}(optimizer(atol_distance))\n",
    "    vertices = [rand(SVector{N}) for i = 1 : M]\n",
    "    point = rand(SVector{N})\n",
    "    \n",
    "    testfun = function (problem, vertices, point)\n",
    "        set_vertices!(problem, vertices)\n",
    "        set_point!(problem, point)\n",
    "        solve!(problem)\n",
    "    end\n",
    "    \n",
    "    testfun(problem, vertices, point)\n",
    "    allocs = @allocated testfun(problem, vertices, point)\n",
    "    @test allocs == 0\n",
    "    @btime $testfun($problem, $vertices, $point)\n",
    "    \n",
    "end\n",
    "\n",
    "end"
   ]
  },
  {
   "cell_type": "code",
   "execution_count": null,
   "metadata": {},
   "outputs": [],
   "source": []
  }
 ],
 "metadata": {
  "@webio": {
   "lastCommId": null,
   "lastKernelId": null
  },
  "kernelspec": {
   "display_name": "Julia 1.0.1",
   "language": "julia",
   "name": "julia-1.0"
  },
  "language_info": {
   "file_extension": ".jl",
   "mimetype": "application/julia",
   "name": "julia",
   "version": "1.0.1"
  }
 },
 "nbformat": 4,
 "nbformat_minor": 2
}
